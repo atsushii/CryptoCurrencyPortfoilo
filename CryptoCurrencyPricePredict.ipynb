{
  "nbformat": 4,
  "nbformat_minor": 0,
  "metadata": {
    "kernelspec": {
      "display_name": "Python 3",
      "language": "python",
      "name": "python3"
    },
    "language_info": {
      "codemirror_mode": {
        "name": "ipython",
        "version": 3
      },
      "file_extension": ".py",
      "mimetype": "text/x-python",
      "name": "python",
      "nbconvert_exporter": "python",
      "pygments_lexer": "ipython3",
      "version": "3.7.5"
    },
    "colab": {
      "name": "CryptoCurrencyPricePredict.ipynb",
      "provenance": []
    },
    "accelerator": "GPU"
  },
  "cells": [
    {
      "cell_type": "code",
      "metadata": {
        "id": "_iYMIElHiy4X",
        "colab_type": "code",
        "colab": {
          "base_uri": "https://localhost:8080/",
          "height": 34
        },
        "outputId": "24a0a8ca-b138-4841-eeff-2662b138fedc"
      },
      "source": [
        "from google.colab import drive\n",
        "drive.mount('/content/drive')"
      ],
      "execution_count": 1,
      "outputs": [
        {
          "output_type": "stream",
          "text": [
            "Drive already mounted at /content/drive; to attempt to forcibly remount, call drive.mount(\"/content/drive\", force_remount=True).\n"
          ],
          "name": "stdout"
        }
      ]
    },
    {
      "cell_type": "code",
      "metadata": {
        "id": "Bj4wqMPUitvR",
        "colab_type": "code",
        "colab": {}
      },
      "source": [
        "import pandas as pd\n",
        "import numpy as np\n",
        "import matplotlib.pyplot as plt\n",
        "from matplotlib.pyplot import cm\n",
        "import datetime\n",
        "from sklearn.model_selection import train_test_split\n",
        "import tensorflow as tf\n",
        "from tensorboardcolab import TensorBoardColab, TensorBoardColabCallback"
      ],
      "execution_count": 0,
      "outputs": []
    },
    {
      "cell_type": "code",
      "metadata": {
        "id": "A3NvLPfMitvd",
        "colab_type": "code",
        "colab": {}
      },
      "source": [
        "# load data\n",
        "df = pd.read_csv(\"/content/drive/My Drive/bitstampUSD_1-min_data_2012-01-01_to_2020-04-22.csv\")"
      ],
      "execution_count": 0,
      "outputs": []
    },
    {
      "cell_type": "code",
      "metadata": {
        "id": "2Mu88uT7itvj",
        "colab_type": "code",
        "colab": {
          "base_uri": "https://localhost:8080/",
          "height": 204
        },
        "outputId": "453999d2-a566-4ea9-97a0-46723c460177"
      },
      "source": [
        "df.head()"
      ],
      "execution_count": 4,
      "outputs": [
        {
          "output_type": "execute_result",
          "data": {
            "text/html": [
              "<div>\n",
              "<style scoped>\n",
              "    .dataframe tbody tr th:only-of-type {\n",
              "        vertical-align: middle;\n",
              "    }\n",
              "\n",
              "    .dataframe tbody tr th {\n",
              "        vertical-align: top;\n",
              "    }\n",
              "\n",
              "    .dataframe thead th {\n",
              "        text-align: right;\n",
              "    }\n",
              "</style>\n",
              "<table border=\"1\" class=\"dataframe\">\n",
              "  <thead>\n",
              "    <tr style=\"text-align: right;\">\n",
              "      <th></th>\n",
              "      <th>Timestamp</th>\n",
              "      <th>Open</th>\n",
              "      <th>High</th>\n",
              "      <th>Low</th>\n",
              "      <th>Close</th>\n",
              "      <th>Volume_(BTC)</th>\n",
              "      <th>Volume_(Currency)</th>\n",
              "      <th>Weighted_Price</th>\n",
              "    </tr>\n",
              "  </thead>\n",
              "  <tbody>\n",
              "    <tr>\n",
              "      <th>0</th>\n",
              "      <td>1325317920</td>\n",
              "      <td>4.39</td>\n",
              "      <td>4.39</td>\n",
              "      <td>4.39</td>\n",
              "      <td>4.39</td>\n",
              "      <td>0.455581</td>\n",
              "      <td>2.0</td>\n",
              "      <td>4.39</td>\n",
              "    </tr>\n",
              "    <tr>\n",
              "      <th>1</th>\n",
              "      <td>1325317980</td>\n",
              "      <td>NaN</td>\n",
              "      <td>NaN</td>\n",
              "      <td>NaN</td>\n",
              "      <td>NaN</td>\n",
              "      <td>NaN</td>\n",
              "      <td>NaN</td>\n",
              "      <td>NaN</td>\n",
              "    </tr>\n",
              "    <tr>\n",
              "      <th>2</th>\n",
              "      <td>1325318040</td>\n",
              "      <td>NaN</td>\n",
              "      <td>NaN</td>\n",
              "      <td>NaN</td>\n",
              "      <td>NaN</td>\n",
              "      <td>NaN</td>\n",
              "      <td>NaN</td>\n",
              "      <td>NaN</td>\n",
              "    </tr>\n",
              "    <tr>\n",
              "      <th>3</th>\n",
              "      <td>1325318100</td>\n",
              "      <td>NaN</td>\n",
              "      <td>NaN</td>\n",
              "      <td>NaN</td>\n",
              "      <td>NaN</td>\n",
              "      <td>NaN</td>\n",
              "      <td>NaN</td>\n",
              "      <td>NaN</td>\n",
              "    </tr>\n",
              "    <tr>\n",
              "      <th>4</th>\n",
              "      <td>1325318160</td>\n",
              "      <td>NaN</td>\n",
              "      <td>NaN</td>\n",
              "      <td>NaN</td>\n",
              "      <td>NaN</td>\n",
              "      <td>NaN</td>\n",
              "      <td>NaN</td>\n",
              "      <td>NaN</td>\n",
              "    </tr>\n",
              "  </tbody>\n",
              "</table>\n",
              "</div>"
            ],
            "text/plain": [
              "    Timestamp  Open  High  ...  Volume_(BTC)  Volume_(Currency)  Weighted_Price\n",
              "0  1325317920  4.39  4.39  ...      0.455581                2.0            4.39\n",
              "1  1325317980   NaN   NaN  ...           NaN                NaN             NaN\n",
              "2  1325318040   NaN   NaN  ...           NaN                NaN             NaN\n",
              "3  1325318100   NaN   NaN  ...           NaN                NaN             NaN\n",
              "4  1325318160   NaN   NaN  ...           NaN                NaN             NaN\n",
              "\n",
              "[5 rows x 8 columns]"
            ]
          },
          "metadata": {
            "tags": []
          },
          "execution_count": 4
        }
      ]
    },
    {
      "cell_type": "markdown",
      "metadata": {
        "id": "IRld6F5Oitvt",
        "colab_type": "text"
      },
      "source": [
        "Timestap is unix time. I will convert unix time to more readable data"
      ]
    },
    {
      "cell_type": "code",
      "metadata": {
        "id": "X6lm9jt6itvu",
        "colab_type": "code",
        "colab": {}
      },
      "source": [
        "df[\"Timestamp\"] = pd.to_datetime(df[\"Timestamp\"], unit=\"s\")"
      ],
      "execution_count": 0,
      "outputs": []
    },
    {
      "cell_type": "code",
      "metadata": {
        "id": "BfoCTCTLitv2",
        "colab_type": "code",
        "colab": {
          "base_uri": "https://localhost:8080/",
          "height": 204
        },
        "outputId": "eef8b77c-74cc-4cf0-ed50-ccf3c0f095aa"
      },
      "source": [
        "# now Timestamp was converted \n",
        "df.tail()"
      ],
      "execution_count": 6,
      "outputs": [
        {
          "output_type": "execute_result",
          "data": {
            "text/html": [
              "<div>\n",
              "<style scoped>\n",
              "    .dataframe tbody tr th:only-of-type {\n",
              "        vertical-align: middle;\n",
              "    }\n",
              "\n",
              "    .dataframe tbody tr th {\n",
              "        vertical-align: top;\n",
              "    }\n",
              "\n",
              "    .dataframe thead th {\n",
              "        text-align: right;\n",
              "    }\n",
              "</style>\n",
              "<table border=\"1\" class=\"dataframe\">\n",
              "  <thead>\n",
              "    <tr style=\"text-align: right;\">\n",
              "      <th></th>\n",
              "      <th>Timestamp</th>\n",
              "      <th>Open</th>\n",
              "      <th>High</th>\n",
              "      <th>Low</th>\n",
              "      <th>Close</th>\n",
              "      <th>Volume_(BTC)</th>\n",
              "      <th>Volume_(Currency)</th>\n",
              "      <th>Weighted_Price</th>\n",
              "    </tr>\n",
              "  </thead>\n",
              "  <tbody>\n",
              "    <tr>\n",
              "      <th>4363452</th>\n",
              "      <td>2020-04-21 23:56:00</td>\n",
              "      <td>6847.97</td>\n",
              "      <td>6856.35</td>\n",
              "      <td>6847.97</td>\n",
              "      <td>6856.35</td>\n",
              "      <td>0.125174</td>\n",
              "      <td>858.128697</td>\n",
              "      <td>6855.498790</td>\n",
              "    </tr>\n",
              "    <tr>\n",
              "      <th>4363453</th>\n",
              "      <td>2020-04-21 23:57:00</td>\n",
              "      <td>6850.23</td>\n",
              "      <td>6856.13</td>\n",
              "      <td>6850.23</td>\n",
              "      <td>6850.89</td>\n",
              "      <td>1.224777</td>\n",
              "      <td>8396.781459</td>\n",
              "      <td>6855.763449</td>\n",
              "    </tr>\n",
              "    <tr>\n",
              "      <th>4363454</th>\n",
              "      <td>2020-04-21 23:58:00</td>\n",
              "      <td>6846.50</td>\n",
              "      <td>6857.45</td>\n",
              "      <td>6846.02</td>\n",
              "      <td>6857.45</td>\n",
              "      <td>7.089168</td>\n",
              "      <td>48533.089069</td>\n",
              "      <td>6846.090966</td>\n",
              "    </tr>\n",
              "    <tr>\n",
              "      <th>4363455</th>\n",
              "      <td>2020-04-21 23:59:00</td>\n",
              "      <td>6854.18</td>\n",
              "      <td>6854.98</td>\n",
              "      <td>6854.18</td>\n",
              "      <td>6854.98</td>\n",
              "      <td>0.012231</td>\n",
              "      <td>83.831604</td>\n",
              "      <td>6854.195090</td>\n",
              "    </tr>\n",
              "    <tr>\n",
              "      <th>4363456</th>\n",
              "      <td>2020-04-22 00:00:00</td>\n",
              "      <td>6850.60</td>\n",
              "      <td>6850.60</td>\n",
              "      <td>6850.60</td>\n",
              "      <td>6850.60</td>\n",
              "      <td>0.014436</td>\n",
              "      <td>98.896906</td>\n",
              "      <td>6850.600000</td>\n",
              "    </tr>\n",
              "  </tbody>\n",
              "</table>\n",
              "</div>"
            ],
            "text/plain": [
              "                  Timestamp     Open  ...  Volume_(Currency)  Weighted_Price\n",
              "4363452 2020-04-21 23:56:00  6847.97  ...         858.128697     6855.498790\n",
              "4363453 2020-04-21 23:57:00  6850.23  ...        8396.781459     6855.763449\n",
              "4363454 2020-04-21 23:58:00  6846.50  ...       48533.089069     6846.090966\n",
              "4363455 2020-04-21 23:59:00  6854.18  ...          83.831604     6854.195090\n",
              "4363456 2020-04-22 00:00:00  6850.60  ...          98.896906     6850.600000\n",
              "\n",
              "[5 rows x 8 columns]"
            ]
          },
          "metadata": {
            "tags": []
          },
          "execution_count": 6
        }
      ]
    },
    {
      "cell_type": "code",
      "metadata": {
        "id": "SnPNEzMuitv9",
        "colab_type": "code",
        "colab": {
          "base_uri": "https://localhost:8080/",
          "height": 34
        },
        "outputId": "bbfffc2c-e311-48bb-c178-98683a92466f"
      },
      "source": [
        "df[\"Weighted_Price\"].isnull().sum()"
      ],
      "execution_count": 7,
      "outputs": [
        {
          "output_type": "execute_result",
          "data": {
            "text/plain": [
              "1236977"
            ]
          },
          "metadata": {
            "tags": []
          },
          "execution_count": 7
        }
      ]
    },
    {
      "cell_type": "code",
      "metadata": {
        "id": "6869jiAlitwE",
        "colab_type": "code",
        "colab": {
          "base_uri": "https://localhost:8080/",
          "height": 272
        },
        "outputId": "91a1918d-abd4-4945-9b4b-1153664fec3e"
      },
      "source": [
        "df.info()"
      ],
      "execution_count": 8,
      "outputs": [
        {
          "output_type": "stream",
          "text": [
            "<class 'pandas.core.frame.DataFrame'>\n",
            "RangeIndex: 4363457 entries, 0 to 4363456\n",
            "Data columns (total 8 columns):\n",
            " #   Column             Dtype         \n",
            "---  ------             -----         \n",
            " 0   Timestamp          datetime64[ns]\n",
            " 1   Open               float64       \n",
            " 2   High               float64       \n",
            " 3   Low                float64       \n",
            " 4   Close              float64       \n",
            " 5   Volume_(BTC)       float64       \n",
            " 6   Volume_(Currency)  float64       \n",
            " 7   Weighted_Price     float64       \n",
            "dtypes: datetime64[ns](1), float64(7)\n",
            "memory usage: 266.3 MB\n"
          ],
          "name": "stdout"
        }
      ]
    },
    {
      "cell_type": "code",
      "metadata": {
        "id": "2ncYmdhTitwJ",
        "colab_type": "code",
        "colab": {
          "base_uri": "https://localhost:8080/",
          "height": 334
        },
        "outputId": "29a74e04-3f7f-4ab7-afc1-78bc26812147"
      },
      "source": [
        "df.set_index(\"Timestamp\")[\"Weighted_Price\"].plot(figsize=(12, 5), title=\"BTC PRICE\")\n",
        "plt.xlabel(\"date\")\n",
        "plt.ylabel(\"price\")\n",
        "plt.show()"
      ],
      "execution_count": 9,
      "outputs": [
        {
          "output_type": "display_data",
          "data": {
            "image/png": "[encoded data removed]",
            "text/plain": [
              "<Figure size 864x360 with 1 Axes>"
            ]
          },
          "metadata": {
            "tags": [],
            "needs_background": "light"
          }
        }
      ]
    },
    {
      "cell_type": "markdown",
      "metadata": {
        "id": "aUUYbyxSitwM",
        "colab_type": "text"
      },
      "source": [
        "As some people know that price was increased on 2018\n",
        "\n",
        "Let me check volume as well"
      ]
    },
    {
      "cell_type": "code",
      "metadata": {
        "id": "0opHn_X2itwN",
        "colab_type": "code",
        "colab": {
          "base_uri": "https://localhost:8080/",
          "height": 334
        },
        "outputId": "469bd6dd-0058-4771-be73-2f880c86369d"
      },
      "source": [
        "df.set_index(\"Timestamp\")[\"Volume_(Currency)\"].plot(figsize=(12, 5))\n",
        "plt.title(\"Volume\")\n",
        "plt.xlabel(\"date\")\n",
        "plt.ylabel(\"volume\")\n",
        "plt.show()"
      ],
      "execution_count": 10,
      "outputs": [
        {
          "output_type": "display_data",
          "data": {
            "image/png": "[encoded data removed]",
            "text/plain": [
              "<Figure size 864x360 with 1 Axes>"
            ]
          },
          "metadata": {
            "tags": [],
            "needs_background": "light"
          }
        }
      ]
    },
    {
      "cell_type": "markdown",
      "metadata": {
        "id": "oXyQMYzRitwQ",
        "colab_type": "text"
      },
      "source": [
        "As you see in the plot, Volume is increasing even now"
      ]
    },
    {
      "cell_type": "code",
      "metadata": {
        "id": "wbyQncFgitwR",
        "colab_type": "code",
        "colab": {}
      },
      "source": [
        "# create date columns\n",
        "df[\"year\"] = df[\"Timestamp\"].dt.year\n",
        "df[\"month\"] = df[\"Timestamp\"].dt.month\n",
        "df[\"day\"] = df[\"Timestamp\"].dt.day\n",
        "df[\"day_of_week\"] = df[\"Timestamp\"].dt.dayofweek"
      ],
      "execution_count": 0,
      "outputs": []
    },
    {
      "cell_type": "code",
      "metadata": {
        "id": "mn_n2z7WitwU",
        "colab_type": "code",
        "colab": {
          "base_uri": "https://localhost:8080/",
          "height": 204
        },
        "outputId": "1cfab395-fddb-48d4-ab1e-28e079e5d727"
      },
      "source": [
        "df.head()"
      ],
      "execution_count": 12,
      "outputs": [
        {
          "output_type": "execute_result",
          "data": {
            "text/html": [
              "<div>\n",
              "<style scoped>\n",
              "    .dataframe tbody tr th:only-of-type {\n",
              "        vertical-align: middle;\n",
              "    }\n",
              "\n",
              "    .dataframe tbody tr th {\n",
              "        vertical-align: top;\n",
              "    }\n",
              "\n",
              "    .dataframe thead th {\n",
              "        text-align: right;\n",
              "    }\n",
              "</style>\n",
              "<table border=\"1\" class=\"dataframe\">\n",
              "  <thead>\n",
              "    <tr style=\"text-align: right;\">\n",
              "      <th></th>\n",
              "      <th>Timestamp</th>\n",
              "      <th>Open</th>\n",
              "      <th>High</th>\n",
              "      <th>Low</th>\n",
              "      <th>Close</th>\n",
              "      <th>Volume_(BTC)</th>\n",
              "      <th>Volume_(Currency)</th>\n",
              "      <th>Weighted_Price</th>\n",
              "      <th>year</th>\n",
              "      <th>month</th>\n",
              "      <th>day</th>\n",
              "      <th>day_of_week</th>\n",
              "    </tr>\n",
              "  </thead>\n",
              "  <tbody>\n",
              "    <tr>\n",
              "      <th>0</th>\n",
              "      <td>2011-12-31 07:52:00</td>\n",
              "      <td>4.39</td>\n",
              "      <td>4.39</td>\n",
              "      <td>4.39</td>\n",
              "      <td>4.39</td>\n",
              "      <td>0.455581</td>\n",
              "      <td>2.0</td>\n",
              "      <td>4.39</td>\n",
              "      <td>2011</td>\n",
              "      <td>12</td>\n",
              "      <td>31</td>\n",
              "      <td>5</td>\n",
              "    </tr>\n",
              "    <tr>\n",
              "      <th>1</th>\n",
              "      <td>2011-12-31 07:53:00</td>\n",
              "      <td>NaN</td>\n",
              "      <td>NaN</td>\n",
              "      <td>NaN</td>\n",
              "      <td>NaN</td>\n",
              "      <td>NaN</td>\n",
              "      <td>NaN</td>\n",
              "      <td>NaN</td>\n",
              "      <td>2011</td>\n",
              "      <td>12</td>\n",
              "      <td>31</td>\n",
              "      <td>5</td>\n",
              "    </tr>\n",
              "    <tr>\n",
              "      <th>2</th>\n",
              "      <td>2011-12-31 07:54:00</td>\n",
              "      <td>NaN</td>\n",
              "      <td>NaN</td>\n",
              "      <td>NaN</td>\n",
              "      <td>NaN</td>\n",
              "      <td>NaN</td>\n",
              "      <td>NaN</td>\n",
              "      <td>NaN</td>\n",
              "      <td>2011</td>\n",
              "      <td>12</td>\n",
              "      <td>31</td>\n",
              "      <td>5</td>\n",
              "    </tr>\n",
              "    <tr>\n",
              "      <th>3</th>\n",
              "      <td>2011-12-31 07:55:00</td>\n",
              "      <td>NaN</td>\n",
              "      <td>NaN</td>\n",
              "      <td>NaN</td>\n",
              "      <td>NaN</td>\n",
              "      <td>NaN</td>\n",
              "      <td>NaN</td>\n",
              "      <td>NaN</td>\n",
              "      <td>2011</td>\n",
              "      <td>12</td>\n",
              "      <td>31</td>\n",
              "      <td>5</td>\n",
              "    </tr>\n",
              "    <tr>\n",
              "      <th>4</th>\n",
              "      <td>2011-12-31 07:56:00</td>\n",
              "      <td>NaN</td>\n",
              "      <td>NaN</td>\n",
              "      <td>NaN</td>\n",
              "      <td>NaN</td>\n",
              "      <td>NaN</td>\n",
              "      <td>NaN</td>\n",
              "      <td>NaN</td>\n",
              "      <td>2011</td>\n",
              "      <td>12</td>\n",
              "      <td>31</td>\n",
              "      <td>5</td>\n",
              "    </tr>\n",
              "  </tbody>\n",
              "</table>\n",
              "</div>"
            ],
            "text/plain": [
              "            Timestamp  Open  High   Low  ...  year  month  day  day_of_week\n",
              "0 2011-12-31 07:52:00  4.39  4.39  4.39  ...  2011     12   31            5\n",
              "1 2011-12-31 07:53:00   NaN   NaN   NaN  ...  2011     12   31            5\n",
              "2 2011-12-31 07:54:00   NaN   NaN   NaN  ...  2011     12   31            5\n",
              "3 2011-12-31 07:55:00   NaN   NaN   NaN  ...  2011     12   31            5\n",
              "4 2011-12-31 07:56:00   NaN   NaN   NaN  ...  2011     12   31            5\n",
              "\n",
              "[5 rows x 12 columns]"
            ]
          },
          "metadata": {
            "tags": []
          },
          "execution_count": 12
        }
      ]
    },
    {
      "cell_type": "markdown",
      "metadata": {
        "id": "QCh4DDmYitwX",
        "colab_type": "text"
      },
      "source": [
        "fill in all of the nulls with the last known value."
      ]
    },
    {
      "cell_type": "code",
      "metadata": {
        "id": "uMDl5v2iitwY",
        "colab_type": "code",
        "colab": {}
      },
      "source": [
        "df = df.fillna(method=\"ffill\")"
      ],
      "execution_count": 0,
      "outputs": []
    },
    {
      "cell_type": "code",
      "metadata": {
        "id": "XBReS8Ifitwc",
        "colab_type": "code",
        "colab": {
          "base_uri": "https://localhost:8080/",
          "height": 204
        },
        "outputId": "38027e32-1b95-4433-e771-ce820da84191"
      },
      "source": [
        "df.head()"
      ],
      "execution_count": 14,
      "outputs": [
        {
          "output_type": "execute_result",
          "data": {
            "text/html": [
              "<div>\n",
              "<style scoped>\n",
              "    .dataframe tbody tr th:only-of-type {\n",
              "        vertical-align: middle;\n",
              "    }\n",
              "\n",
              "    .dataframe tbody tr th {\n",
              "        vertical-align: top;\n",
              "    }\n",
              "\n",
              "    .dataframe thead th {\n",
              "        text-align: right;\n",
              "    }\n",
              "</style>\n",
              "<table border=\"1\" class=\"dataframe\">\n",
              "  <thead>\n",
              "    <tr style=\"text-align: right;\">\n",
              "      <th></th>\n",
              "      <th>Timestamp</th>\n",
              "      <th>Open</th>\n",
              "      <th>High</th>\n",
              "      <th>Low</th>\n",
              "      <th>Close</th>\n",
              "      <th>Volume_(BTC)</th>\n",
              "      <th>Volume_(Currency)</th>\n",
              "      <th>Weighted_Price</th>\n",
              "      <th>year</th>\n",
              "      <th>month</th>\n",
              "      <th>day</th>\n",
              "      <th>day_of_week</th>\n",
              "    </tr>\n",
              "  </thead>\n",
              "  <tbody>\n",
              "    <tr>\n",
              "      <th>0</th>\n",
              "      <td>2011-12-31 07:52:00</td>\n",
              "      <td>4.39</td>\n",
              "      <td>4.39</td>\n",
              "      <td>4.39</td>\n",
              "      <td>4.39</td>\n",
              "      <td>0.455581</td>\n",
              "      <td>2.0</td>\n",
              "      <td>4.39</td>\n",
              "      <td>2011</td>\n",
              "      <td>12</td>\n",
              "      <td>31</td>\n",
              "      <td>5</td>\n",
              "    </tr>\n",
              "    <tr>\n",
              "      <th>1</th>\n",
              "      <td>2011-12-31 07:53:00</td>\n",
              "      <td>4.39</td>\n",
              "      <td>4.39</td>\n",
              "      <td>4.39</td>\n",
              "      <td>4.39</td>\n",
              "      <td>0.455581</td>\n",
              "      <td>2.0</td>\n",
              "      <td>4.39</td>\n",
              "      <td>2011</td>\n",
              "      <td>12</td>\n",
              "      <td>31</td>\n",
              "      <td>5</td>\n",
              "    </tr>\n",
              "    <tr>\n",
              "      <th>2</th>\n",
              "      <td>2011-12-31 07:54:00</td>\n",
              "      <td>4.39</td>\n",
              "      <td>4.39</td>\n",
              "      <td>4.39</td>\n",
              "      <td>4.39</td>\n",
              "      <td>0.455581</td>\n",
              "      <td>2.0</td>\n",
              "      <td>4.39</td>\n",
              "      <td>2011</td>\n",
              "      <td>12</td>\n",
              "      <td>31</td>\n",
              "      <td>5</td>\n",
              "    </tr>\n",
              "    <tr>\n",
              "      <th>3</th>\n",
              "      <td>2011-12-31 07:55:00</td>\n",
              "      <td>4.39</td>\n",
              "      <td>4.39</td>\n",
              "      <td>4.39</td>\n",
              "      <td>4.39</td>\n",
              "      <td>0.455581</td>\n",
              "      <td>2.0</td>\n",
              "      <td>4.39</td>\n",
              "      <td>2011</td>\n",
              "      <td>12</td>\n",
              "      <td>31</td>\n",
              "      <td>5</td>\n",
              "    </tr>\n",
              "    <tr>\n",
              "      <th>4</th>\n",
              "      <td>2011-12-31 07:56:00</td>\n",
              "      <td>4.39</td>\n",
              "      <td>4.39</td>\n",
              "      <td>4.39</td>\n",
              "      <td>4.39</td>\n",
              "      <td>0.455581</td>\n",
              "      <td>2.0</td>\n",
              "      <td>4.39</td>\n",
              "      <td>2011</td>\n",
              "      <td>12</td>\n",
              "      <td>31</td>\n",
              "      <td>5</td>\n",
              "    </tr>\n",
              "  </tbody>\n",
              "</table>\n",
              "</div>"
            ],
            "text/plain": [
              "            Timestamp  Open  High   Low  ...  year  month  day  day_of_week\n",
              "0 2011-12-31 07:52:00  4.39  4.39  4.39  ...  2011     12   31            5\n",
              "1 2011-12-31 07:53:00  4.39  4.39  4.39  ...  2011     12   31            5\n",
              "2 2011-12-31 07:54:00  4.39  4.39  4.39  ...  2011     12   31            5\n",
              "3 2011-12-31 07:55:00  4.39  4.39  4.39  ...  2011     12   31            5\n",
              "4 2011-12-31 07:56:00  4.39  4.39  4.39  ...  2011     12   31            5\n",
              "\n",
              "[5 rows x 12 columns]"
            ]
          },
          "metadata": {
            "tags": []
          },
          "execution_count": 14
        }
      ]
    },
    {
      "cell_type": "markdown",
      "metadata": {
        "id": "ruaEOSH0itwf",
        "colab_type": "text"
      },
      "source": [
        "Check the price by week and month and hour"
      ]
    },
    {
      "cell_type": "code",
      "metadata": {
        "id": "1ZL7CCzTitwg",
        "colab_type": "code",
        "colab": {
          "base_uri": "https://localhost:8080/",
          "height": 1000
        },
        "outputId": "29e5f581-3dd7-45dd-ca50-64291406040e"
      },
      "source": [
        "plt.figure(figsize=(15, 20))\n",
        "plt.subplots_adjust(hspace=0.8)\n",
        "\n",
        "year = df[\"year\"].unique()\n",
        "\n",
        "color=iter(cm.rainbow(np.linspace(0,1,len(year))))\n",
        "\n",
        "# day of week(Monday=0, Sunday=6)\n",
        "for i, value in enumerate(year):\n",
        "    c = next(color)\n",
        "    plt.subplot(len(year), 1, i+1)\n",
        "    df[df[\"year\"] == value].groupby(\"day_of_week\").mean()[\"Weighted_Price\"].plot(c=c)\n",
        "    plt.xlabel(\"day of week\")\n",
        "    plt.ylabel(\"mean of price\")\n",
        "    plt.title(value)"
      ],
      "execution_count": 15,
      "outputs": [
        {
          "output_type": "display_data",
          "data": {
            "image/png": "[encoded data removed]",
            "text/plain": [
              "<Figure size 1080x1440 with 10 Axes>"
            ]
          },
          "metadata": {
            "tags": [],
            "needs_background": "light"
          }
        }
      ]
    },
    {
      "cell_type": "markdown",
      "metadata": {
        "id": "KTn3AskEitwm",
        "colab_type": "text"
      },
      "source": [
        "Interestingly since 2012, the trend was almost the same every 2 years\n",
        "\n",
        "I will check price month as well"
      ]
    },
    {
      "cell_type": "code",
      "metadata": {
        "id": "dCTZqE5Iitwm",
        "colab_type": "code",
        "colab": {
          "base_uri": "https://localhost:8080/",
          "height": 1000
        },
        "outputId": "3ccaa2c3-de3f-4c7b-fbfb-9a2411e4dbbb"
      },
      "source": [
        "plt.figure(figsize=(15, 20))\n",
        "plt.subplots_adjust(hspace=0.8)\n",
        "\n",
        "\n",
        "year = df[\"year\"].unique()\n",
        "\n",
        "color=iter(cm.rainbow(np.linspace(0,1,len(year))))\n",
        "\n",
        "# day of week(Monday=0, Sunday=6)\n",
        "for i, value in enumerate(year):\n",
        "    c = next(color)\n",
        "    plt.subplot(len(year), 1, i+1)\n",
        "    df[df[\"year\"] == value].groupby(\"month\").mean()[\"Weighted_Price\"].plot(c=c)\n",
        "    plt.xlabel(\"month\")\n",
        "    plt.ylabel(\"mean of price\")\n",
        "    plt.title(value)"
      ],
      "execution_count": 16,
      "outputs": [
        {
          "output_type": "display_data",
          "data": {
            "image/png": "[encoded data removed]",
            "text/plain": [
              "<Figure size 1080x1440 with 10 Axes>"
            ]
          },
          "metadata": {
            "tags": [],
            "needs_background": "light"
          }
        }
      ]
    },
    {
      "cell_type": "code",
      "metadata": {
        "id": "V8JItCaaitwp",
        "colab_type": "code",
        "colab": {
          "base_uri": "https://localhost:8080/",
          "height": 204
        },
        "outputId": "cf741161-4eb2-4fb4-84d9-cee1c353ec44"
      },
      "source": [
        "# drop data of 2011\n",
        "df = df.drop(df[df.year == 2011].index)\n",
        "# drop duplicate date\n",
        "df[\"Timestamp\"] = df[\"Timestamp\"].apply(lambda x: x.replace(hour=0, minute=0, second=0))\n",
        "df = df.drop_duplicates(subset=\"Timestamp\", keep=\"last\")\n",
        "df.head()"
      ],
      "execution_count": 17,
      "outputs": [
        {
          "output_type": "execute_result",
          "data": {
            "text/html": [
              "<div>\n",
              "<style scoped>\n",
              "    .dataframe tbody tr th:only-of-type {\n",
              "        vertical-align: middle;\n",
              "    }\n",
              "\n",
              "    .dataframe tbody tr th {\n",
              "        vertical-align: top;\n",
              "    }\n",
              "\n",
              "    .dataframe thead th {\n",
              "        text-align: right;\n",
              "    }\n",
              "</style>\n",
              "<table border=\"1\" class=\"dataframe\">\n",
              "  <thead>\n",
              "    <tr style=\"text-align: right;\">\n",
              "      <th></th>\n",
              "      <th>Timestamp</th>\n",
              "      <th>Open</th>\n",
              "      <th>High</th>\n",
              "      <th>Low</th>\n",
              "      <th>Close</th>\n",
              "      <th>Volume_(BTC)</th>\n",
              "      <th>Volume_(Currency)</th>\n",
              "      <th>Weighted_Price</th>\n",
              "      <th>year</th>\n",
              "      <th>month</th>\n",
              "      <th>day</th>\n",
              "      <th>day_of_week</th>\n",
              "    </tr>\n",
              "  </thead>\n",
              "  <tbody>\n",
              "    <tr>\n",
              "      <th>2407</th>\n",
              "      <td>2012-01-01</td>\n",
              "      <td>5.00</td>\n",
              "      <td>5.00</td>\n",
              "      <td>5.00</td>\n",
              "      <td>5.00</td>\n",
              "      <td>10.100000</td>\n",
              "      <td>50.500000</td>\n",
              "      <td>5.000000</td>\n",
              "      <td>2012</td>\n",
              "      <td>1</td>\n",
              "      <td>1</td>\n",
              "      <td>6</td>\n",
              "    </tr>\n",
              "    <tr>\n",
              "      <th>3847</th>\n",
              "      <td>2012-01-02</td>\n",
              "      <td>5.00</td>\n",
              "      <td>5.00</td>\n",
              "      <td>5.00</td>\n",
              "      <td>5.00</td>\n",
              "      <td>19.048000</td>\n",
              "      <td>95.240000</td>\n",
              "      <td>5.000000</td>\n",
              "      <td>2012</td>\n",
              "      <td>1</td>\n",
              "      <td>2</td>\n",
              "      <td>0</td>\n",
              "    </tr>\n",
              "    <tr>\n",
              "      <th>5287</th>\n",
              "      <td>2012-01-03</td>\n",
              "      <td>5.29</td>\n",
              "      <td>5.29</td>\n",
              "      <td>5.29</td>\n",
              "      <td>5.29</td>\n",
              "      <td>4.010815</td>\n",
              "      <td>21.217210</td>\n",
              "      <td>5.290000</td>\n",
              "      <td>2012</td>\n",
              "      <td>1</td>\n",
              "      <td>3</td>\n",
              "      <td>1</td>\n",
              "    </tr>\n",
              "    <tr>\n",
              "      <th>6727</th>\n",
              "      <td>2012-01-04</td>\n",
              "      <td>5.37</td>\n",
              "      <td>5.57</td>\n",
              "      <td>5.37</td>\n",
              "      <td>5.57</td>\n",
              "      <td>43.312196</td>\n",
              "      <td>235.747069</td>\n",
              "      <td>5.442972</td>\n",
              "      <td>2012</td>\n",
              "      <td>1</td>\n",
              "      <td>4</td>\n",
              "      <td>2</td>\n",
              "    </tr>\n",
              "    <tr>\n",
              "      <th>8167</th>\n",
              "      <td>2012-01-05</td>\n",
              "      <td>6.65</td>\n",
              "      <td>6.65</td>\n",
              "      <td>6.65</td>\n",
              "      <td>6.65</td>\n",
              "      <td>0.499266</td>\n",
              "      <td>3.320117</td>\n",
              "      <td>6.650000</td>\n",
              "      <td>2012</td>\n",
              "      <td>1</td>\n",
              "      <td>5</td>\n",
              "      <td>3</td>\n",
              "    </tr>\n",
              "  </tbody>\n",
              "</table>\n",
              "</div>"
            ],
            "text/plain": [
              "      Timestamp  Open  High   Low  ...  year  month  day  day_of_week\n",
              "2407 2012-01-01  5.00  5.00  5.00  ...  2012      1    1            6\n",
              "3847 2012-01-02  5.00  5.00  5.00  ...  2012      1    2            0\n",
              "5287 2012-01-03  5.29  5.29  5.29  ...  2012      1    3            1\n",
              "6727 2012-01-04  5.37  5.57  5.37  ...  2012      1    4            2\n",
              "8167 2012-01-05  6.65  6.65  6.65  ...  2012      1    5            3\n",
              "\n",
              "[5 rows x 12 columns]"
            ]
          },
          "metadata": {
            "tags": []
          },
          "execution_count": 17
        }
      ]
    },
    {
      "cell_type": "code",
      "metadata": {
        "id": "yuL9GKvWitwu",
        "colab_type": "code",
        "colab": {
          "base_uri": "https://localhost:8080/",
          "height": 266
        },
        "outputId": "54053526-a0bb-4ad6-ed2a-6b8854b98d5e"
      },
      "source": [
        "# create dataset\n",
        "prediction_days = 7 # predict price every 7days\n",
        "\n",
        "df[\"Prediction\"] = df[[\"Weighted_Price\"]].shift(-prediction_days)\n",
        "df[[\"Weighted_Price\", \"Prediction\"]].sample(7)"
      ],
      "execution_count": 18,
      "outputs": [
        {
          "output_type": "execute_result",
          "data": {
            "text/html": [
              "<div>\n",
              "<style scoped>\n",
              "    .dataframe tbody tr th:only-of-type {\n",
              "        vertical-align: middle;\n",
              "    }\n",
              "\n",
              "    .dataframe tbody tr th {\n",
              "        vertical-align: top;\n",
              "    }\n",
              "\n",
              "    .dataframe thead th {\n",
              "        text-align: right;\n",
              "    }\n",
              "</style>\n",
              "<table border=\"1\" class=\"dataframe\">\n",
              "  <thead>\n",
              "    <tr style=\"text-align: right;\">\n",
              "      <th></th>\n",
              "      <th>Weighted_Price</th>\n",
              "      <th>Prediction</th>\n",
              "    </tr>\n",
              "  </thead>\n",
              "  <tbody>\n",
              "    <tr>\n",
              "      <th>1157287</th>\n",
              "      <td>641.010000</td>\n",
              "      <td>585.678551</td>\n",
              "    </tr>\n",
              "    <tr>\n",
              "      <th>205447</th>\n",
              "      <td>5.080000</td>\n",
              "      <td>5.070000</td>\n",
              "    </tr>\n",
              "    <tr>\n",
              "      <th>3538335</th>\n",
              "      <td>6459.467504</td>\n",
              "      <td>6458.746357</td>\n",
              "    </tr>\n",
              "    <tr>\n",
              "      <th>434407</th>\n",
              "      <td>10.430000</td>\n",
              "      <td>10.660000</td>\n",
              "    </tr>\n",
              "    <tr>\n",
              "      <th>2747775</th>\n",
              "      <td>959.610640</td>\n",
              "      <td>1077.589504</td>\n",
              "    </tr>\n",
              "    <tr>\n",
              "      <th>1065127</th>\n",
              "      <td>823.448821</td>\n",
              "      <td>841.102054</td>\n",
              "    </tr>\n",
              "    <tr>\n",
              "      <th>3083295</th>\n",
              "      <td>6608.016873</td>\n",
              "      <td>8097.193788</td>\n",
              "    </tr>\n",
              "  </tbody>\n",
              "</table>\n",
              "</div>"
            ],
            "text/plain": [
              "         Weighted_Price   Prediction\n",
              "1157287      641.010000   585.678551\n",
              "205447         5.080000     5.070000\n",
              "3538335     6459.467504  6458.746357\n",
              "434407        10.430000    10.660000\n",
              "2747775      959.610640  1077.589504\n",
              "1065127      823.448821   841.102054\n",
              "3083295     6608.016873  8097.193788"
            ]
          },
          "metadata": {
            "tags": []
          },
          "execution_count": 18
        }
      ]
    },
    {
      "cell_type": "code",
      "metadata": {
        "id": "eww0m6N0l50D",
        "colab_type": "code",
        "colab": {
          "base_uri": "https://localhost:8080/",
          "height": 204
        },
        "outputId": "b88c06a4-6516-4a8b-d051-792db8b75380"
      },
      "source": [
        "df.head()"
      ],
      "execution_count": 19,
      "outputs": [
        {
          "output_type": "execute_result",
          "data": {
            "text/html": [
              "<div>\n",
              "<style scoped>\n",
              "    .dataframe tbody tr th:only-of-type {\n",
              "        vertical-align: middle;\n",
              "    }\n",
              "\n",
              "    .dataframe tbody tr th {\n",
              "        vertical-align: top;\n",
              "    }\n",
              "\n",
              "    .dataframe thead th {\n",
              "        text-align: right;\n",
              "    }\n",
              "</style>\n",
              "<table border=\"1\" class=\"dataframe\">\n",
              "  <thead>\n",
              "    <tr style=\"text-align: right;\">\n",
              "      <th></th>\n",
              "      <th>Timestamp</th>\n",
              "      <th>Open</th>\n",
              "      <th>High</th>\n",
              "      <th>Low</th>\n",
              "      <th>Close</th>\n",
              "      <th>Volume_(BTC)</th>\n",
              "      <th>Volume_(Currency)</th>\n",
              "      <th>Weighted_Price</th>\n",
              "      <th>year</th>\n",
              "      <th>month</th>\n",
              "      <th>day</th>\n",
              "      <th>day_of_week</th>\n",
              "      <th>Prediction</th>\n",
              "    </tr>\n",
              "  </thead>\n",
              "  <tbody>\n",
              "    <tr>\n",
              "      <th>2407</th>\n",
              "      <td>2012-01-01</td>\n",
              "      <td>5.00</td>\n",
              "      <td>5.00</td>\n",
              "      <td>5.00</td>\n",
              "      <td>5.00</td>\n",
              "      <td>10.100000</td>\n",
              "      <td>50.500000</td>\n",
              "      <td>5.000000</td>\n",
              "      <td>2012</td>\n",
              "      <td>1</td>\n",
              "      <td>1</td>\n",
              "      <td>6</td>\n",
              "      <td>7.00</td>\n",
              "    </tr>\n",
              "    <tr>\n",
              "      <th>3847</th>\n",
              "      <td>2012-01-02</td>\n",
              "      <td>5.00</td>\n",
              "      <td>5.00</td>\n",
              "      <td>5.00</td>\n",
              "      <td>5.00</td>\n",
              "      <td>19.048000</td>\n",
              "      <td>95.240000</td>\n",
              "      <td>5.000000</td>\n",
              "      <td>2012</td>\n",
              "      <td>1</td>\n",
              "      <td>2</td>\n",
              "      <td>0</td>\n",
              "      <td>6.30</td>\n",
              "    </tr>\n",
              "    <tr>\n",
              "      <th>5287</th>\n",
              "      <td>2012-01-03</td>\n",
              "      <td>5.29</td>\n",
              "      <td>5.29</td>\n",
              "      <td>5.29</td>\n",
              "      <td>5.29</td>\n",
              "      <td>4.010815</td>\n",
              "      <td>21.217210</td>\n",
              "      <td>5.290000</td>\n",
              "      <td>2012</td>\n",
              "      <td>1</td>\n",
              "      <td>3</td>\n",
              "      <td>1</td>\n",
              "      <td>7.14</td>\n",
              "    </tr>\n",
              "    <tr>\n",
              "      <th>6727</th>\n",
              "      <td>2012-01-04</td>\n",
              "      <td>5.37</td>\n",
              "      <td>5.57</td>\n",
              "      <td>5.37</td>\n",
              "      <td>5.57</td>\n",
              "      <td>43.312196</td>\n",
              "      <td>235.747069</td>\n",
              "      <td>5.442972</td>\n",
              "      <td>2012</td>\n",
              "      <td>1</td>\n",
              "      <td>4</td>\n",
              "      <td>2</td>\n",
              "      <td>7.00</td>\n",
              "    </tr>\n",
              "    <tr>\n",
              "      <th>8167</th>\n",
              "      <td>2012-01-05</td>\n",
              "      <td>6.65</td>\n",
              "      <td>6.65</td>\n",
              "      <td>6.65</td>\n",
              "      <td>6.65</td>\n",
              "      <td>0.499266</td>\n",
              "      <td>3.320117</td>\n",
              "      <td>6.650000</td>\n",
              "      <td>2012</td>\n",
              "      <td>1</td>\n",
              "      <td>5</td>\n",
              "      <td>3</td>\n",
              "      <td>6.51</td>\n",
              "    </tr>\n",
              "  </tbody>\n",
              "</table>\n",
              "</div>"
            ],
            "text/plain": [
              "      Timestamp  Open  High   Low  ...  month  day  day_of_week  Prediction\n",
              "2407 2012-01-01  5.00  5.00  5.00  ...      1    1            6        7.00\n",
              "3847 2012-01-02  5.00  5.00  5.00  ...      1    2            0        6.30\n",
              "5287 2012-01-03  5.29  5.29  5.29  ...      1    3            1        7.14\n",
              "6727 2012-01-04  5.37  5.57  5.37  ...      1    4            2        7.00\n",
              "8167 2012-01-05  6.65  6.65  6.65  ...      1    5            3        6.51\n",
              "\n",
              "[5 rows x 13 columns]"
            ]
          },
          "metadata": {
            "tags": []
          },
          "execution_count": 19
        }
      ]
    },
    {
      "cell_type": "code",
      "metadata": {
        "id": "DkxH5fypitwx",
        "colab_type": "code",
        "colab": {}
      },
      "source": [
        "X = df.drop([\"Low\", \"Close\", \"Timestamp\", \"Prediction\"], axis=1)\n",
        "# remove last 7 days rows\n",
        "X = X[:len(df)-prediction_days]\n",
        "\n",
        "y = df[\"Prediction\"]\n",
        "y = y[:-prediction_days]"
      ],
      "execution_count": 0,
      "outputs": []
    },
    {
      "cell_type": "code",
      "metadata": {
        "id": "v7yi2ktgr8VX",
        "colab_type": "code",
        "colab": {}
      },
      "source": [
        "from sklearn.preprocessing import MinMaxScaler\n",
        "sc = MinMaxScaler(feature_range = (0, 1))\n",
        "X = sc.fit_transform(X.values)"
      ],
      "execution_count": 0,
      "outputs": []
    },
    {
      "cell_type": "markdown",
      "metadata": {
        "id": "sf4Y-fg1itw0",
        "colab_type": "text"
      },
      "source": [
        "# split data"
      ]
    },
    {
      "cell_type": "code",
      "metadata": {
        "id": "cZbj0y5Drzzm",
        "colab_type": "code",
        "colab": {}
      },
      "source": [
        "X_train, X_test, y_train, y_test = train_test_split(X, y.values, test_size=0.2)"
      ],
      "execution_count": 0,
      "outputs": []
    },
    {
      "cell_type": "code",
      "metadata": {
        "id": "RTB8jfvPitw3",
        "colab_type": "code",
        "colab": {}
      },
      "source": [
        "X_train = np.reshape(X_train, (X_train.shape[0], X_train.shape[1], 1))\n",
        "X_test = np.reshape(X_test, (X_test.shape[0], X_test.shape[1], 1))"
      ],
      "execution_count": 0,
      "outputs": []
    },
    {
      "cell_type": "code",
      "metadata": {
        "id": "4b6ZipqAitw6",
        "colab_type": "code",
        "colab": {}
      },
      "source": [
        "from tensorflow.keras.callbacks import TensorBoard\n",
        "import os\n",
        "# Define parameter\n",
        "units = 64\n",
        "batch_size = 32 \n",
        "epoch = 10000\n",
        "dropout_rate = 0.1\n",
        "optimizer = \"adam\"\n",
        "loss_function = 'mean_squared_error'\n",
        "early_stop = tf.keras.callbacks.EarlyStopping(\n",
        "    monitor='val_loss', patience=3\n",
        ")"
      ],
      "execution_count": 0,
      "outputs": []
    },
    {
      "cell_type": "code",
      "metadata": {
        "id": "MzdFrll7Pr31",
        "colab_type": "code",
        "colab": {
          "base_uri": "https://localhost:8080/",
          "height": 238
        },
        "outputId": "a795875a-9603-4d85-a685-e3ba5c719f70"
      },
      "source": [
        "# Tensorboard set\n",
        "!wget https://bin.equinox.io/c/4VmDzA7iaHb/ngrok-stable-linux-amd64.zip\n",
        "!unzip ngrok-stable-linux-amd64.zip"
      ],
      "execution_count": 34,
      "outputs": [
        {
          "output_type": "stream",
          "text": [
            "--2020-05-16 02:10:12--  https://bin.equinox.io/c/4VmDzA7iaHb/ngrok-stable-linux-amd64.zip\n",
            "Resolving bin.equinox.io (bin.equinox.io)... 54.84.89.161, 34.228.174.189, 18.213.76.145, ...\n",
            "Connecting to bin.equinox.io (bin.equinox.io)|54.84.89.161|:443... connected.\n",
            "HTTP request sent, awaiting response... 200 OK\n",
            "Length: 13773305 (13M) [application/octet-stream]\n",
            "Saving to: ‘ngrok-stable-linux-amd64.zip’\n",
            "\n",
            "ngrok-stable-linux- 100%[===================>]  13.13M  5.54MB/s    in 2.4s    \n",
            "\n",
            "2020-05-16 02:10:15 (5.54 MB/s) - ‘ngrok-stable-linux-amd64.zip’ saved [13773305/13773305]\n",
            "\n",
            "Archive:  ngrok-stable-linux-amd64.zip\n",
            "  inflating: ngrok                   \n"
          ],
          "name": "stdout"
        }
      ]
    },
    {
      "cell_type": "code",
      "metadata": {
        "id": "dEnxNOgbP0mt",
        "colab_type": "code",
        "colab": {}
      },
      "source": [
        "LOG_DIR = os.path.join(\"logs\")\n",
        "get_ipython().system_raw(\n",
        "    'tensorboard --logdir {} --host 0.0.0.0 --port 6006 &'\n",
        "    .format(LOG_DIR)\n",
        ")\n",
        "\n",
        "get_ipython().system_raw('./ngrok http 6006 &')"
      ],
      "execution_count": 0,
      "outputs": []
    },
    {
      "cell_type": "code",
      "metadata": {
        "id": "xofkM4vtQPqC",
        "colab_type": "code",
        "colab": {
          "base_uri": "https://localhost:8080/",
          "height": 34
        },
        "outputId": "8093ada6-08af-447b-e93f-814357a29149"
      },
      "source": [
        "#Run tensorboard\n",
        "!curl -s http://localhost:4040/api/tunnels | python3 -c \\\n",
        "    \"import sys, json; print(json.load(sys.stdin)['tunnels'][0]['public_url'])\""
      ],
      "execution_count": 42,
      "outputs": [
        {
          "output_type": "stream",
          "text": [
            "https://4c36f968.ngrok.io\n"
          ],
          "name": "stdout"
        }
      ]
    },
    {
      "cell_type": "code",
      "metadata": {
        "id": "0s4Of2BcQcSR",
        "colab_type": "code",
        "colab": {}
      },
      "source": [
        "tensorboard_callback = TensorBoard(log_dir=LOG_DIR, histogram_freq=1,\n",
        "                         write_images=True)"
      ],
      "execution_count": 0,
      "outputs": []
    },
    {
      "cell_type": "code",
      "metadata": {
        "id": "amtQ8ABZitw8",
        "colab_type": "code",
        "colab": {
          "base_uri": "https://localhost:8080/",
          "height": 34
        },
        "outputId": "b95024e2-a16b-4c5d-f815-1296e0319cdc"
      },
      "source": [
        "# create model\n",
        "from tensorflow.keras.models import Sequential\n",
        "from tensorflow.keras.layers import LSTM, Dropout, Dense\n",
        "\n",
        "model = Sequential()\n",
        "\n",
        "model.add(LSTM(units=units, return_sequences=True, input_shape=(X_train.shape[1], 1)))\n",
        "model.add(Dropout(dropout_rate))\n",
        "\n",
        "model.add(LSTM(units=units, return_sequences=True))\n",
        "model.add(Dropout(dropout_rate))\n",
        "\n",
        "model.add(LSTM(units=units, return_sequences=True))\n",
        "model.add(Dropout(dropout_rate))\n",
        "\n",
        "model.add(LSTM(units=units, return_sequences=True))\n",
        "model.add(Dropout(dropout_rate))\n",
        "\n",
        "model.add(LSTM(units=units))\n",
        "model.add(Dropout(dropout_rate))\n",
        "\n",
        "model.add(Dense(units=1))\n",
        "\n",
        "model.compile(optimizer=optimizer, loss=loss_function, metrics=['mae'])\n",
        "\n",
        "model.fit(X_train, y_train, epochs=epoch, batch_size=batch_size, validation_split=0.2, verbose=0, callbacks=[early_stop, tensorboard_callback])"
      ],
      "execution_count": 0,
      "outputs": [
        {
          "output_type": "stream",
          "text": [
            "WARNING:tensorflow:Method (on_train_batch_end) is slow compared to the batch update (0.136343). Check your callbacks.\n"
          ],
          "name": "stdout"
        }
      ]
    },
    {
      "cell_type": "code",
      "metadata": {
        "id": "Gj0eL3VnPgFM",
        "colab_type": "code",
        "colab": {}
      },
      "source": [
        ""
      ],
      "execution_count": 0,
      "outputs": []
    }
  ]
}