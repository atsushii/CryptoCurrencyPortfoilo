{
  "nbformat": 4,
  "nbformat_minor": 0,
  "metadata": {
    "kernelspec": {
      "display_name": "Python 3",
      "language": "python",
      "name": "python3"
    },
    "language_info": {
      "codemirror_mode": {
        "name": "ipython",
        "version": 3
      },
      "file_extension": ".py",
      "mimetype": "text/x-python",
      "name": "python",
      "nbconvert_exporter": "python",
      "pygments_lexer": "ipython3",
      "version": "3.7.5"
    },
    "colab": {
      "name": "CryptoCurrencyPricePredict.ipynb",
      "provenance": [],
      "collapsed_sections": [],
      "toc_visible": true
    },
    "accelerator": "GPU"
  },
  "cells": [
    {
      "cell_type": "code",
      "metadata": {
        "id": "_iYMIElHiy4X",
        "colab_type": "code",
        "outputId": "010a6e8b-1f39-4f6d-b80d-8a08286d0f88",
        "colab": {
          "base_uri": "https://localhost:8080/",
          "height": 34
        }
      },
      "source": [
        "from google.colab import drive\n",
        "drive.mount('/content/drive')"
      ],
      "execution_count": 1,
      "outputs": [
        {
          "output_type": "stream",
          "text": [
            "Drive already mounted at /content/drive; to attempt to forcibly remount, call drive.mount(\"/content/drive\", force_remount=True).\n"
          ],
          "name": "stdout"
        }
      ]
    },
    {
      "cell_type": "code",
      "metadata": {
        "id": "Bj4wqMPUitvR",
        "colab_type": "code",
        "colab": {
          "base_uri": "https://localhost:8080/",
          "height": 34
        },
        "outputId": "e49963fb-a1bc-4dfb-a1fb-4893b5c1d46e"
      },
      "source": [
        "import pandas as pd\n",
        "import numpy as np\n",
        "import matplotlib.pyplot as plt\n",
        "from matplotlib.pyplot import cm\n",
        "import datetime\n",
        "import random\n",
        "from collections import deque\n",
        "from sklearn.model_selection import train_test_split\n",
        "import tensorflow as tf\n",
        "from tensorboardcolab import TensorBoardColab, TensorBoardColabCallback"
      ],
      "execution_count": 1,
      "outputs": [
        {
          "output_type": "stream",
          "text": [
            "Using TensorFlow backend.\n"
          ],
          "name": "stderr"
        }
      ]
    },
    {
      "cell_type": "code",
      "metadata": {
        "id": "A3NvLPfMitvd",
        "colab_type": "code",
        "colab": {}
      },
      "source": [
        "# load data\n",
        "df = pd.read_csv(\"/content/drive/My Drive/bitstampUSD_1-min_data_2012-01-01_to_2020-04-22.csv\")"
      ],
      "execution_count": 0,
      "outputs": []
    },
    {
      "cell_type": "code",
      "metadata": {
        "id": "2Mu88uT7itvj",
        "colab_type": "code",
        "outputId": "91f7d972-a645-4dac-d462-949d6a97cf6f",
        "colab": {
          "base_uri": "https://localhost:8080/",
          "height": 204
        }
      },
      "source": [
        "df.head()"
      ],
      "execution_count": 88,
      "outputs": [
        {
          "output_type": "execute_result",
          "data": {
            "text/html": [
              "<div>\n",
              "<style scoped>\n",
              "    .dataframe tbody tr th:only-of-type {\n",
              "        vertical-align: middle;\n",
              "    }\n",
              "\n",
              "    .dataframe tbody tr th {\n",
              "        vertical-align: top;\n",
              "    }\n",
              "\n",
              "    .dataframe thead th {\n",
              "        text-align: right;\n",
              "    }\n",
              "</style>\n",
              "<table border=\"1\" class=\"dataframe\">\n",
              "  <thead>\n",
              "    <tr style=\"text-align: right;\">\n",
              "      <th></th>\n",
              "      <th>Timestamp</th>\n",
              "      <th>Open</th>\n",
              "      <th>High</th>\n",
              "      <th>Low</th>\n",
              "      <th>Close</th>\n",
              "      <th>Volume_(BTC)</th>\n",
              "      <th>Volume_(Currency)</th>\n",
              "      <th>Weighted_Price</th>\n",
              "    </tr>\n",
              "  </thead>\n",
              "  <tbody>\n",
              "    <tr>\n",
              "      <th>0</th>\n",
              "      <td>1325317920</td>\n",
              "      <td>4.39</td>\n",
              "      <td>4.39</td>\n",
              "      <td>4.39</td>\n",
              "      <td>4.39</td>\n",
              "      <td>0.455581</td>\n",
              "      <td>2.0</td>\n",
              "      <td>4.39</td>\n",
              "    </tr>\n",
              "    <tr>\n",
              "      <th>1</th>\n",
              "      <td>1325317980</td>\n",
              "      <td>NaN</td>\n",
              "      <td>NaN</td>\n",
              "      <td>NaN</td>\n",
              "      <td>NaN</td>\n",
              "      <td>NaN</td>\n",
              "      <td>NaN</td>\n",
              "      <td>NaN</td>\n",
              "    </tr>\n",
              "    <tr>\n",
              "      <th>2</th>\n",
              "      <td>1325318040</td>\n",
              "      <td>NaN</td>\n",
              "      <td>NaN</td>\n",
              "      <td>NaN</td>\n",
              "      <td>NaN</td>\n",
              "      <td>NaN</td>\n",
              "      <td>NaN</td>\n",
              "      <td>NaN</td>\n",
              "    </tr>\n",
              "    <tr>\n",
              "      <th>3</th>\n",
              "      <td>1325318100</td>\n",
              "      <td>NaN</td>\n",
              "      <td>NaN</td>\n",
              "      <td>NaN</td>\n",
              "      <td>NaN</td>\n",
              "      <td>NaN</td>\n",
              "      <td>NaN</td>\n",
              "      <td>NaN</td>\n",
              "    </tr>\n",
              "    <tr>\n",
              "      <th>4</th>\n",
              "      <td>1325318160</td>\n",
              "      <td>NaN</td>\n",
              "      <td>NaN</td>\n",
              "      <td>NaN</td>\n",
              "      <td>NaN</td>\n",
              "      <td>NaN</td>\n",
              "      <td>NaN</td>\n",
              "      <td>NaN</td>\n",
              "    </tr>\n",
              "  </tbody>\n",
              "</table>\n",
              "</div>"
            ],
            "text/plain": [
              "    Timestamp  Open  High  ...  Volume_(BTC)  Volume_(Currency)  Weighted_Price\n",
              "0  1325317920  4.39  4.39  ...      0.455581                2.0            4.39\n",
              "1  1325317980   NaN   NaN  ...           NaN                NaN             NaN\n",
              "2  1325318040   NaN   NaN  ...           NaN                NaN             NaN\n",
              "3  1325318100   NaN   NaN  ...           NaN                NaN             NaN\n",
              "4  1325318160   NaN   NaN  ...           NaN                NaN             NaN\n",
              "\n",
              "[5 rows x 8 columns]"
            ]
          },
          "metadata": {
            "tags": []
          },
          "execution_count": 88
        }
      ]
    },
    {
      "cell_type": "markdown",
      "metadata": {
        "id": "IRld6F5Oitvt",
        "colab_type": "text"
      },
      "source": [
        "Timestap is unix time. I will convert unix time to more readable data"
      ]
    },
    {
      "cell_type": "code",
      "metadata": {
        "id": "X6lm9jt6itvu",
        "colab_type": "code",
        "colab": {}
      },
      "source": [
        "df[\"Timestamp\"] = pd.to_datetime(df[\"Timestamp\"], unit=\"s\")"
      ],
      "execution_count": 0,
      "outputs": []
    },
    {
      "cell_type": "code",
      "metadata": {
        "id": "BfoCTCTLitv2",
        "colab_type": "code",
        "outputId": "a4c2ebb6-cc8e-4940-c5d1-5f363958eb44",
        "colab": {
          "base_uri": "https://localhost:8080/",
          "height": 204
        }
      },
      "source": [
        "# now Timestamp was converted \n",
        "df.tail()"
      ],
      "execution_count": 90,
      "outputs": [
        {
          "output_type": "execute_result",
          "data": {
            "text/html": [
              "<div>\n",
              "<style scoped>\n",
              "    .dataframe tbody tr th:only-of-type {\n",
              "        vertical-align: middle;\n",
              "    }\n",
              "\n",
              "    .dataframe tbody tr th {\n",
              "        vertical-align: top;\n",
              "    }\n",
              "\n",
              "    .dataframe thead th {\n",
              "        text-align: right;\n",
              "    }\n",
              "</style>\n",
              "<table border=\"1\" class=\"dataframe\">\n",
              "  <thead>\n",
              "    <tr style=\"text-align: right;\">\n",
              "      <th></th>\n",
              "      <th>Timestamp</th>\n",
              "      <th>Open</th>\n",
              "      <th>High</th>\n",
              "      <th>Low</th>\n",
              "      <th>Close</th>\n",
              "      <th>Volume_(BTC)</th>\n",
              "      <th>Volume_(Currency)</th>\n",
              "      <th>Weighted_Price</th>\n",
              "    </tr>\n",
              "  </thead>\n",
              "  <tbody>\n",
              "    <tr>\n",
              "      <th>4363452</th>\n",
              "      <td>2020-04-21 23:56:00</td>\n",
              "      <td>6847.97</td>\n",
              "      <td>6856.35</td>\n",
              "      <td>6847.97</td>\n",
              "      <td>6856.35</td>\n",
              "      <td>0.125174</td>\n",
              "      <td>858.128697</td>\n",
              "      <td>6855.498790</td>\n",
              "    </tr>\n",
              "    <tr>\n",
              "      <th>4363453</th>\n",
              "      <td>2020-04-21 23:57:00</td>\n",
              "      <td>6850.23</td>\n",
              "      <td>6856.13</td>\n",
              "      <td>6850.23</td>\n",
              "      <td>6850.89</td>\n",
              "      <td>1.224777</td>\n",
              "      <td>8396.781459</td>\n",
              "      <td>6855.763449</td>\n",
              "    </tr>\n",
              "    <tr>\n",
              "      <th>4363454</th>\n",
              "      <td>2020-04-21 23:58:00</td>\n",
              "      <td>6846.50</td>\n",
              "      <td>6857.45</td>\n",
              "      <td>6846.02</td>\n",
              "      <td>6857.45</td>\n",
              "      <td>7.089168</td>\n",
              "      <td>48533.089069</td>\n",
              "      <td>6846.090966</td>\n",
              "    </tr>\n",
              "    <tr>\n",
              "      <th>4363455</th>\n",
              "      <td>2020-04-21 23:59:00</td>\n",
              "      <td>6854.18</td>\n",
              "      <td>6854.98</td>\n",
              "      <td>6854.18</td>\n",
              "      <td>6854.98</td>\n",
              "      <td>0.012231</td>\n",
              "      <td>83.831604</td>\n",
              "      <td>6854.195090</td>\n",
              "    </tr>\n",
              "    <tr>\n",
              "      <th>4363456</th>\n",
              "      <td>2020-04-22 00:00:00</td>\n",
              "      <td>6850.60</td>\n",
              "      <td>6850.60</td>\n",
              "      <td>6850.60</td>\n",
              "      <td>6850.60</td>\n",
              "      <td>0.014436</td>\n",
              "      <td>98.896906</td>\n",
              "      <td>6850.600000</td>\n",
              "    </tr>\n",
              "  </tbody>\n",
              "</table>\n",
              "</div>"
            ],
            "text/plain": [
              "                  Timestamp     Open  ...  Volume_(Currency)  Weighted_Price\n",
              "4363452 2020-04-21 23:56:00  6847.97  ...         858.128697     6855.498790\n",
              "4363453 2020-04-21 23:57:00  6850.23  ...        8396.781459     6855.763449\n",
              "4363454 2020-04-21 23:58:00  6846.50  ...       48533.089069     6846.090966\n",
              "4363455 2020-04-21 23:59:00  6854.18  ...          83.831604     6854.195090\n",
              "4363456 2020-04-22 00:00:00  6850.60  ...          98.896906     6850.600000\n",
              "\n",
              "[5 rows x 8 columns]"
            ]
          },
          "metadata": {
            "tags": []
          },
          "execution_count": 90
        }
      ]
    },
    {
      "cell_type": "code",
      "metadata": {
        "id": "SnPNEzMuitv9",
        "colab_type": "code",
        "outputId": "d8b8a98e-4e23-466c-9586-ed2a0119f3c5",
        "colab": {
          "base_uri": "https://localhost:8080/",
          "height": 34
        }
      },
      "source": [
        "df[\"Close\"].isnull().sum()"
      ],
      "execution_count": 91,
      "outputs": [
        {
          "output_type": "execute_result",
          "data": {
            "text/plain": [
              "1236977"
            ]
          },
          "metadata": {
            "tags": []
          },
          "execution_count": 91
        }
      ]
    },
    {
      "cell_type": "code",
      "metadata": {
        "id": "6869jiAlitwE",
        "colab_type": "code",
        "outputId": "256fae5d-99ba-43ae-d83a-860cffcc7c6c",
        "colab": {
          "base_uri": "https://localhost:8080/",
          "height": 272
        }
      },
      "source": [
        "df.info()"
      ],
      "execution_count": 92,
      "outputs": [
        {
          "output_type": "stream",
          "text": [
            "<class 'pandas.core.frame.DataFrame'>\n",
            "RangeIndex: 4363457 entries, 0 to 4363456\n",
            "Data columns (total 8 columns):\n",
            " #   Column             Dtype         \n",
            "---  ------             -----         \n",
            " 0   Timestamp          datetime64[ns]\n",
            " 1   Open               float64       \n",
            " 2   High               float64       \n",
            " 3   Low                float64       \n",
            " 4   Close              float64       \n",
            " 5   Volume_(BTC)       float64       \n",
            " 6   Volume_(Currency)  float64       \n",
            " 7   Weighted_Price     float64       \n",
            "dtypes: datetime64[ns](1), float64(7)\n",
            "memory usage: 266.3 MB\n"
          ],
          "name": "stdout"
        }
      ]
    },
    {
      "cell_type": "code",
      "metadata": {
        "id": "2ncYmdhTitwJ",
        "colab_type": "code",
        "outputId": "3f518783-3a64-4f10-bb94-dafc6bf57f9a",
        "colab": {
          "base_uri": "https://localhost:8080/",
          "height": 334
        }
      },
      "source": [
        "df.set_index(\"Timestamp\")[\"Close\"].plot(figsize=(12, 5), title=\"BTC PRICE\")\n",
        "plt.xlabel(\"date\")\n",
        "plt.ylabel(\"price\")\n",
        "plt.show()"
      ],
      "execution_count": 93,
      "outputs": [
        {
          "output_type": "display_data",
          "data": {
            "image/png": "[encoded data removed]",
            "text/plain": [
              "<Figure size 864x360 with 1 Axes>"
            ]
          },
          "metadata": {
            "tags": [],
            "needs_background": "light"
          }
        }
      ]
    },
    {
      "cell_type": "markdown",
      "metadata": {
        "id": "aUUYbyxSitwM",
        "colab_type": "text"
      },
      "source": [
        "As some people know that price was increased on 2018\n",
        "\n",
        "Let me check volume as well"
      ]
    },
    {
      "cell_type": "code",
      "metadata": {
        "id": "0opHn_X2itwN",
        "colab_type": "code",
        "outputId": "bb1a5f5b-216b-4ddb-81b4-737eb3c9e21a",
        "colab": {
          "base_uri": "https://localhost:8080/",
          "height": 334
        }
      },
      "source": [
        "df.set_index(\"Timestamp\")[\"Volume_(Currency)\"].plot(figsize=(12, 5))\n",
        "plt.title(\"Volume\")\n",
        "plt.xlabel(\"date\")\n",
        "plt.ylabel(\"volume\")\n",
        "plt.show()"
      ],
      "execution_count": 94,
      "outputs": [
        {
          "output_type": "display_data",
          "data": {
            "image/png": "[encoded data removed]",
            "text/plain": [
              "<Figure size 864x360 with 1 Axes>"
            ]
          },
          "metadata": {
            "tags": [],
            "needs_background": "light"
          }
        }
      ]
    },
    {
      "cell_type": "markdown",
      "metadata": {
        "id": "oXyQMYzRitwQ",
        "colab_type": "text"
      },
      "source": [
        "As you see in the plot, Volume is increasing even now"
      ]
    },
    {
      "cell_type": "code",
      "metadata": {
        "id": "wbyQncFgitwR",
        "colab_type": "code",
        "colab": {}
      },
      "source": [
        "# create date columns\n",
        "df[\"year\"] = df[\"Timestamp\"].dt.year\n",
        "df[\"month\"] = df[\"Timestamp\"].dt.month\n",
        "df[\"day\"] = df[\"Timestamp\"].dt.day\n",
        "df[\"day_of_week\"] = df[\"Timestamp\"].dt.dayofweek"
      ],
      "execution_count": 0,
      "outputs": []
    },
    {
      "cell_type": "code",
      "metadata": {
        "id": "mn_n2z7WitwU",
        "colab_type": "code",
        "outputId": "abb52d52-1926-4b00-aeab-733d8f5c61bd",
        "colab": {
          "base_uri": "https://localhost:8080/",
          "height": 204
        }
      },
      "source": [
        "df.head()"
      ],
      "execution_count": 96,
      "outputs": [
        {
          "output_type": "execute_result",
          "data": {
            "text/html": [
              "<div>\n",
              "<style scoped>\n",
              "    .dataframe tbody tr th:only-of-type {\n",
              "        vertical-align: middle;\n",
              "    }\n",
              "\n",
              "    .dataframe tbody tr th {\n",
              "        vertical-align: top;\n",
              "    }\n",
              "\n",
              "    .dataframe thead th {\n",
              "        text-align: right;\n",
              "    }\n",
              "</style>\n",
              "<table border=\"1\" class=\"dataframe\">\n",
              "  <thead>\n",
              "    <tr style=\"text-align: right;\">\n",
              "      <th></th>\n",
              "      <th>Timestamp</th>\n",
              "      <th>Open</th>\n",
              "      <th>High</th>\n",
              "      <th>Low</th>\n",
              "      <th>Close</th>\n",
              "      <th>Volume_(BTC)</th>\n",
              "      <th>Volume_(Currency)</th>\n",
              "      <th>Weighted_Price</th>\n",
              "      <th>year</th>\n",
              "      <th>month</th>\n",
              "      <th>day</th>\n",
              "      <th>day_of_week</th>\n",
              "    </tr>\n",
              "  </thead>\n",
              "  <tbody>\n",
              "    <tr>\n",
              "      <th>0</th>\n",
              "      <td>2011-12-31 07:52:00</td>\n",
              "      <td>4.39</td>\n",
              "      <td>4.39</td>\n",
              "      <td>4.39</td>\n",
              "      <td>4.39</td>\n",
              "      <td>0.455581</td>\n",
              "      <td>2.0</td>\n",
              "      <td>4.39</td>\n",
              "      <td>2011</td>\n",
              "      <td>12</td>\n",
              "      <td>31</td>\n",
              "      <td>5</td>\n",
              "    </tr>\n",
              "    <tr>\n",
              "      <th>1</th>\n",
              "      <td>2011-12-31 07:53:00</td>\n",
              "      <td>NaN</td>\n",
              "      <td>NaN</td>\n",
              "      <td>NaN</td>\n",
              "      <td>NaN</td>\n",
              "      <td>NaN</td>\n",
              "      <td>NaN</td>\n",
              "      <td>NaN</td>\n",
              "      <td>2011</td>\n",
              "      <td>12</td>\n",
              "      <td>31</td>\n",
              "      <td>5</td>\n",
              "    </tr>\n",
              "    <tr>\n",
              "      <th>2</th>\n",
              "      <td>2011-12-31 07:54:00</td>\n",
              "      <td>NaN</td>\n",
              "      <td>NaN</td>\n",
              "      <td>NaN</td>\n",
              "      <td>NaN</td>\n",
              "      <td>NaN</td>\n",
              "      <td>NaN</td>\n",
              "      <td>NaN</td>\n",
              "      <td>2011</td>\n",
              "      <td>12</td>\n",
              "      <td>31</td>\n",
              "      <td>5</td>\n",
              "    </tr>\n",
              "    <tr>\n",
              "      <th>3</th>\n",
              "      <td>2011-12-31 07:55:00</td>\n",
              "      <td>NaN</td>\n",
              "      <td>NaN</td>\n",
              "      <td>NaN</td>\n",
              "      <td>NaN</td>\n",
              "      <td>NaN</td>\n",
              "      <td>NaN</td>\n",
              "      <td>NaN</td>\n",
              "      <td>2011</td>\n",
              "      <td>12</td>\n",
              "      <td>31</td>\n",
              "      <td>5</td>\n",
              "    </tr>\n",
              "    <tr>\n",
              "      <th>4</th>\n",
              "      <td>2011-12-31 07:56:00</td>\n",
              "      <td>NaN</td>\n",
              "      <td>NaN</td>\n",
              "      <td>NaN</td>\n",
              "      <td>NaN</td>\n",
              "      <td>NaN</td>\n",
              "      <td>NaN</td>\n",
              "      <td>NaN</td>\n",
              "      <td>2011</td>\n",
              "      <td>12</td>\n",
              "      <td>31</td>\n",
              "      <td>5</td>\n",
              "    </tr>\n",
              "  </tbody>\n",
              "</table>\n",
              "</div>"
            ],
            "text/plain": [
              "            Timestamp  Open  High   Low  ...  year  month  day  day_of_week\n",
              "0 2011-12-31 07:52:00  4.39  4.39  4.39  ...  2011     12   31            5\n",
              "1 2011-12-31 07:53:00   NaN   NaN   NaN  ...  2011     12   31            5\n",
              "2 2011-12-31 07:54:00   NaN   NaN   NaN  ...  2011     12   31            5\n",
              "3 2011-12-31 07:55:00   NaN   NaN   NaN  ...  2011     12   31            5\n",
              "4 2011-12-31 07:56:00   NaN   NaN   NaN  ...  2011     12   31            5\n",
              "\n",
              "[5 rows x 12 columns]"
            ]
          },
          "metadata": {
            "tags": []
          },
          "execution_count": 96
        }
      ]
    },
    {
      "cell_type": "markdown",
      "metadata": {
        "id": "QCh4DDmYitwX",
        "colab_type": "text"
      },
      "source": [
        "fill in all of the nulls with the last known value."
      ]
    },
    {
      "cell_type": "code",
      "metadata": {
        "id": "uMDl5v2iitwY",
        "colab_type": "code",
        "colab": {}
      },
      "source": [
        "df = df.fillna(method=\"ffill\")"
      ],
      "execution_count": 0,
      "outputs": []
    },
    {
      "cell_type": "code",
      "metadata": {
        "id": "XBReS8Ifitwc",
        "colab_type": "code",
        "outputId": "b95d0391-987c-4aa6-9d83-f365b70ffe9b",
        "colab": {
          "base_uri": "https://localhost:8080/",
          "height": 204
        }
      },
      "source": [
        "df.head()"
      ],
      "execution_count": 98,
      "outputs": [
        {
          "output_type": "execute_result",
          "data": {
            "text/html": [
              "<div>\n",
              "<style scoped>\n",
              "    .dataframe tbody tr th:only-of-type {\n",
              "        vertical-align: middle;\n",
              "    }\n",
              "\n",
              "    .dataframe tbody tr th {\n",
              "        vertical-align: top;\n",
              "    }\n",
              "\n",
              "    .dataframe thead th {\n",
              "        text-align: right;\n",
              "    }\n",
              "</style>\n",
              "<table border=\"1\" class=\"dataframe\">\n",
              "  <thead>\n",
              "    <tr style=\"text-align: right;\">\n",
              "      <th></th>\n",
              "      <th>Timestamp</th>\n",
              "      <th>Open</th>\n",
              "      <th>High</th>\n",
              "      <th>Low</th>\n",
              "      <th>Close</th>\n",
              "      <th>Volume_(BTC)</th>\n",
              "      <th>Volume_(Currency)</th>\n",
              "      <th>Weighted_Price</th>\n",
              "      <th>year</th>\n",
              "      <th>month</th>\n",
              "      <th>day</th>\n",
              "      <th>day_of_week</th>\n",
              "    </tr>\n",
              "  </thead>\n",
              "  <tbody>\n",
              "    <tr>\n",
              "      <th>0</th>\n",
              "      <td>2011-12-31 07:52:00</td>\n",
              "      <td>4.39</td>\n",
              "      <td>4.39</td>\n",
              "      <td>4.39</td>\n",
              "      <td>4.39</td>\n",
              "      <td>0.455581</td>\n",
              "      <td>2.0</td>\n",
              "      <td>4.39</td>\n",
              "      <td>2011</td>\n",
              "      <td>12</td>\n",
              "      <td>31</td>\n",
              "      <td>5</td>\n",
              "    </tr>\n",
              "    <tr>\n",
              "      <th>1</th>\n",
              "      <td>2011-12-31 07:53:00</td>\n",
              "      <td>4.39</td>\n",
              "      <td>4.39</td>\n",
              "      <td>4.39</td>\n",
              "      <td>4.39</td>\n",
              "      <td>0.455581</td>\n",
              "      <td>2.0</td>\n",
              "      <td>4.39</td>\n",
              "      <td>2011</td>\n",
              "      <td>12</td>\n",
              "      <td>31</td>\n",
              "      <td>5</td>\n",
              "    </tr>\n",
              "    <tr>\n",
              "      <th>2</th>\n",
              "      <td>2011-12-31 07:54:00</td>\n",
              "      <td>4.39</td>\n",
              "      <td>4.39</td>\n",
              "      <td>4.39</td>\n",
              "      <td>4.39</td>\n",
              "      <td>0.455581</td>\n",
              "      <td>2.0</td>\n",
              "      <td>4.39</td>\n",
              "      <td>2011</td>\n",
              "      <td>12</td>\n",
              "      <td>31</td>\n",
              "      <td>5</td>\n",
              "    </tr>\n",
              "    <tr>\n",
              "      <th>3</th>\n",
              "      <td>2011-12-31 07:55:00</td>\n",
              "      <td>4.39</td>\n",
              "      <td>4.39</td>\n",
              "      <td>4.39</td>\n",
              "      <td>4.39</td>\n",
              "      <td>0.455581</td>\n",
              "      <td>2.0</td>\n",
              "      <td>4.39</td>\n",
              "      <td>2011</td>\n",
              "      <td>12</td>\n",
              "      <td>31</td>\n",
              "      <td>5</td>\n",
              "    </tr>\n",
              "    <tr>\n",
              "      <th>4</th>\n",
              "      <td>2011-12-31 07:56:00</td>\n",
              "      <td>4.39</td>\n",
              "      <td>4.39</td>\n",
              "      <td>4.39</td>\n",
              "      <td>4.39</td>\n",
              "      <td>0.455581</td>\n",
              "      <td>2.0</td>\n",
              "      <td>4.39</td>\n",
              "      <td>2011</td>\n",
              "      <td>12</td>\n",
              "      <td>31</td>\n",
              "      <td>5</td>\n",
              "    </tr>\n",
              "  </tbody>\n",
              "</table>\n",
              "</div>"
            ],
            "text/plain": [
              "            Timestamp  Open  High   Low  ...  year  month  day  day_of_week\n",
              "0 2011-12-31 07:52:00  4.39  4.39  4.39  ...  2011     12   31            5\n",
              "1 2011-12-31 07:53:00  4.39  4.39  4.39  ...  2011     12   31            5\n",
              "2 2011-12-31 07:54:00  4.39  4.39  4.39  ...  2011     12   31            5\n",
              "3 2011-12-31 07:55:00  4.39  4.39  4.39  ...  2011     12   31            5\n",
              "4 2011-12-31 07:56:00  4.39  4.39  4.39  ...  2011     12   31            5\n",
              "\n",
              "[5 rows x 12 columns]"
            ]
          },
          "metadata": {
            "tags": []
          },
          "execution_count": 98
        }
      ]
    },
    {
      "cell_type": "markdown",
      "metadata": {
        "id": "ruaEOSH0itwf",
        "colab_type": "text"
      },
      "source": [
        "Check the price by week and month and hour"
      ]
    },
    {
      "cell_type": "code",
      "metadata": {
        "id": "1ZL7CCzTitwg",
        "colab_type": "code",
        "outputId": "839e4a6c-8ab5-44ab-a92c-fbd75c6d0b25",
        "colab": {
          "base_uri": "https://localhost:8080/",
          "height": 1000
        }
      },
      "source": [
        "plt.figure(figsize=(15, 20))\n",
        "plt.subplots_adjust(hspace=0.8)\n",
        "\n",
        "year = df[\"year\"].unique()\n",
        "\n",
        "color=iter(cm.rainbow(np.linspace(0,1,len(year))))\n",
        "\n",
        "# day of week(Monday=0, Sunday=6)\n",
        "for i, value in enumerate(year):\n",
        "    c = next(color)\n",
        "    plt.subplot(len(year), 1, i+1)\n",
        "    df[df[\"year\"] == value].groupby(\"day_of_week\").mean()[\"Close\"].plot(c=c)\n",
        "    plt.xlabel(\"day of week\")\n",
        "    plt.ylabel(\"mean of price\")\n",
        "    plt.title(value)"
      ],
      "execution_count": 99,
      "outputs": [
        {
          "output_type": "display_data",
          "data": {
            "image/png": "[encoded data removed]",
            "text/plain": [
              "<Figure size 1080x1440 with 10 Axes>"
            ]
          },
          "metadata": {
            "tags": [],
            "needs_background": "light"
          }
        }
      ]
    },
    {
      "cell_type": "markdown",
      "metadata": {
        "id": "KTn3AskEitwm",
        "colab_type": "text"
      },
      "source": [
        "Interestingly since 2012, the trend was almost the same every 2 years\n",
        "\n",
        "I will check price month as well"
      ]
    },
    {
      "cell_type": "code",
      "metadata": {
        "id": "dCTZqE5Iitwm",
        "colab_type": "code",
        "outputId": "19cd6f98-6baa-4a91-def6-1e9ca7b0eae3",
        "colab": {
          "base_uri": "https://localhost:8080/",
          "height": 1000
        }
      },
      "source": [
        "plt.figure(figsize=(15, 20))\n",
        "plt.subplots_adjust(hspace=0.8)\n",
        "\n",
        "\n",
        "year = df[\"year\"].unique()\n",
        "\n",
        "color=iter(cm.rainbow(np.linspace(0,1,len(year))))\n",
        "\n",
        "# day of week(Monday=0, Sunday=6)\n",
        "for i, value in enumerate(year):\n",
        "    c = next(color)\n",
        "    plt.subplot(len(year), 1, i+1)\n",
        "    df[df[\"year\"] == value].groupby(\"month\").mean()[\"Close\"].plot(c=c)\n",
        "    plt.xlabel(\"month\")\n",
        "    plt.ylabel(\"mean of price\")\n",
        "    plt.title(value)"
      ],
      "execution_count": 100,
      "outputs": [
        {
          "output_type": "display_data",
          "data": {
            "image/png": "[encoded data removed]",
            "text/plain": [
              "<Figure size 1080x1440 with 10 Axes>"
            ]
          },
          "metadata": {
            "tags": [],
            "needs_background": "light"
          }
        }
      ]
    },
    {
      "cell_type": "code",
      "metadata": {
        "id": "V8JItCaaitwp",
        "colab_type": "code",
        "outputId": "3ab26035-efee-4625-ed81-653945764e63",
        "colab": {
          "base_uri": "https://localhost:8080/",
          "height": 204
        }
      },
      "source": [
        "# drop duplicate date\n",
        "df[\"Timestamp\"] = df[\"Timestamp\"].apply(lambda x: x.replace(hour=0, minute=0, second=0))\n",
        "df = df.drop_duplicates(subset=\"Timestamp\", keep=\"last\")\n",
        "df.head()"
      ],
      "execution_count": 101,
      "outputs": [
        {
          "output_type": "execute_result",
          "data": {
            "text/html": [
              "<div>\n",
              "<style scoped>\n",
              "    .dataframe tbody tr th:only-of-type {\n",
              "        vertical-align: middle;\n",
              "    }\n",
              "\n",
              "    .dataframe tbody tr th {\n",
              "        vertical-align: top;\n",
              "    }\n",
              "\n",
              "    .dataframe thead th {\n",
              "        text-align: right;\n",
              "    }\n",
              "</style>\n",
              "<table border=\"1\" class=\"dataframe\">\n",
              "  <thead>\n",
              "    <tr style=\"text-align: right;\">\n",
              "      <th></th>\n",
              "      <th>Timestamp</th>\n",
              "      <th>Open</th>\n",
              "      <th>High</th>\n",
              "      <th>Low</th>\n",
              "      <th>Close</th>\n",
              "      <th>Volume_(BTC)</th>\n",
              "      <th>Volume_(Currency)</th>\n",
              "      <th>Weighted_Price</th>\n",
              "      <th>year</th>\n",
              "      <th>month</th>\n",
              "      <th>day</th>\n",
              "      <th>day_of_week</th>\n",
              "    </tr>\n",
              "  </thead>\n",
              "  <tbody>\n",
              "    <tr>\n",
              "      <th>967</th>\n",
              "      <td>2011-12-31</td>\n",
              "      <td>4.58</td>\n",
              "      <td>4.58</td>\n",
              "      <td>4.58</td>\n",
              "      <td>4.58</td>\n",
              "      <td>9.000000</td>\n",
              "      <td>41.220000</td>\n",
              "      <td>4.580000</td>\n",
              "      <td>2011</td>\n",
              "      <td>12</td>\n",
              "      <td>31</td>\n",
              "      <td>5</td>\n",
              "    </tr>\n",
              "    <tr>\n",
              "      <th>2407</th>\n",
              "      <td>2012-01-01</td>\n",
              "      <td>5.00</td>\n",
              "      <td>5.00</td>\n",
              "      <td>5.00</td>\n",
              "      <td>5.00</td>\n",
              "      <td>10.100000</td>\n",
              "      <td>50.500000</td>\n",
              "      <td>5.000000</td>\n",
              "      <td>2012</td>\n",
              "      <td>1</td>\n",
              "      <td>1</td>\n",
              "      <td>6</td>\n",
              "    </tr>\n",
              "    <tr>\n",
              "      <th>3847</th>\n",
              "      <td>2012-01-02</td>\n",
              "      <td>5.00</td>\n",
              "      <td>5.00</td>\n",
              "      <td>5.00</td>\n",
              "      <td>5.00</td>\n",
              "      <td>19.048000</td>\n",
              "      <td>95.240000</td>\n",
              "      <td>5.000000</td>\n",
              "      <td>2012</td>\n",
              "      <td>1</td>\n",
              "      <td>2</td>\n",
              "      <td>0</td>\n",
              "    </tr>\n",
              "    <tr>\n",
              "      <th>5287</th>\n",
              "      <td>2012-01-03</td>\n",
              "      <td>5.29</td>\n",
              "      <td>5.29</td>\n",
              "      <td>5.29</td>\n",
              "      <td>5.29</td>\n",
              "      <td>4.010815</td>\n",
              "      <td>21.217210</td>\n",
              "      <td>5.290000</td>\n",
              "      <td>2012</td>\n",
              "      <td>1</td>\n",
              "      <td>3</td>\n",
              "      <td>1</td>\n",
              "    </tr>\n",
              "    <tr>\n",
              "      <th>6727</th>\n",
              "      <td>2012-01-04</td>\n",
              "      <td>5.37</td>\n",
              "      <td>5.57</td>\n",
              "      <td>5.37</td>\n",
              "      <td>5.57</td>\n",
              "      <td>43.312196</td>\n",
              "      <td>235.747069</td>\n",
              "      <td>5.442972</td>\n",
              "      <td>2012</td>\n",
              "      <td>1</td>\n",
              "      <td>4</td>\n",
              "      <td>2</td>\n",
              "    </tr>\n",
              "  </tbody>\n",
              "</table>\n",
              "</div>"
            ],
            "text/plain": [
              "      Timestamp  Open  High   Low  ...  year  month  day  day_of_week\n",
              "967  2011-12-31  4.58  4.58  4.58  ...  2011     12   31            5\n",
              "2407 2012-01-01  5.00  5.00  5.00  ...  2012      1    1            6\n",
              "3847 2012-01-02  5.00  5.00  5.00  ...  2012      1    2            0\n",
              "5287 2012-01-03  5.29  5.29  5.29  ...  2012      1    3            1\n",
              "6727 2012-01-04  5.37  5.57  5.37  ...  2012      1    4            2\n",
              "\n",
              "[5 rows x 12 columns]"
            ]
          },
          "metadata": {
            "tags": []
          },
          "execution_count": 101
        }
      ]
    },
    {
      "cell_type": "code",
      "metadata": {
        "id": "eww0m6N0l50D",
        "colab_type": "code",
        "outputId": "f93bc7e5-645c-4721-a0be-0a248757a295",
        "colab": {
          "base_uri": "https://localhost:8080/",
          "height": 204
        }
      },
      "source": [
        "# drop unnessesary colum\n",
        "df = df.drop([\"Timestamp\", \"year\"], axis=1)\n",
        "df.head()"
      ],
      "execution_count": 102,
      "outputs": [
        {
          "output_type": "execute_result",
          "data": {
            "text/html": [
              "<div>\n",
              "<style scoped>\n",
              "    .dataframe tbody tr th:only-of-type {\n",
              "        vertical-align: middle;\n",
              "    }\n",
              "\n",
              "    .dataframe tbody tr th {\n",
              "        vertical-align: top;\n",
              "    }\n",
              "\n",
              "    .dataframe thead th {\n",
              "        text-align: right;\n",
              "    }\n",
              "</style>\n",
              "<table border=\"1\" class=\"dataframe\">\n",
              "  <thead>\n",
              "    <tr style=\"text-align: right;\">\n",
              "      <th></th>\n",
              "      <th>Open</th>\n",
              "      <th>High</th>\n",
              "      <th>Low</th>\n",
              "      <th>Close</th>\n",
              "      <th>Volume_(BTC)</th>\n",
              "      <th>Volume_(Currency)</th>\n",
              "      <th>Weighted_Price</th>\n",
              "      <th>month</th>\n",
              "      <th>day</th>\n",
              "      <th>day_of_week</th>\n",
              "    </tr>\n",
              "  </thead>\n",
              "  <tbody>\n",
              "    <tr>\n",
              "      <th>967</th>\n",
              "      <td>4.58</td>\n",
              "      <td>4.58</td>\n",
              "      <td>4.58</td>\n",
              "      <td>4.58</td>\n",
              "      <td>9.000000</td>\n",
              "      <td>41.220000</td>\n",
              "      <td>4.580000</td>\n",
              "      <td>12</td>\n",
              "      <td>31</td>\n",
              "      <td>5</td>\n",
              "    </tr>\n",
              "    <tr>\n",
              "      <th>2407</th>\n",
              "      <td>5.00</td>\n",
              "      <td>5.00</td>\n",
              "      <td>5.00</td>\n",
              "      <td>5.00</td>\n",
              "      <td>10.100000</td>\n",
              "      <td>50.500000</td>\n",
              "      <td>5.000000</td>\n",
              "      <td>1</td>\n",
              "      <td>1</td>\n",
              "      <td>6</td>\n",
              "    </tr>\n",
              "    <tr>\n",
              "      <th>3847</th>\n",
              "      <td>5.00</td>\n",
              "      <td>5.00</td>\n",
              "      <td>5.00</td>\n",
              "      <td>5.00</td>\n",
              "      <td>19.048000</td>\n",
              "      <td>95.240000</td>\n",
              "      <td>5.000000</td>\n",
              "      <td>1</td>\n",
              "      <td>2</td>\n",
              "      <td>0</td>\n",
              "    </tr>\n",
              "    <tr>\n",
              "      <th>5287</th>\n",
              "      <td>5.29</td>\n",
              "      <td>5.29</td>\n",
              "      <td>5.29</td>\n",
              "      <td>5.29</td>\n",
              "      <td>4.010815</td>\n",
              "      <td>21.217210</td>\n",
              "      <td>5.290000</td>\n",
              "      <td>1</td>\n",
              "      <td>3</td>\n",
              "      <td>1</td>\n",
              "    </tr>\n",
              "    <tr>\n",
              "      <th>6727</th>\n",
              "      <td>5.37</td>\n",
              "      <td>5.57</td>\n",
              "      <td>5.37</td>\n",
              "      <td>5.57</td>\n",
              "      <td>43.312196</td>\n",
              "      <td>235.747069</td>\n",
              "      <td>5.442972</td>\n",
              "      <td>1</td>\n",
              "      <td>4</td>\n",
              "      <td>2</td>\n",
              "    </tr>\n",
              "  </tbody>\n",
              "</table>\n",
              "</div>"
            ],
            "text/plain": [
              "      Open  High   Low  Close  ...  Weighted_Price  month  day  day_of_week\n",
              "967   4.58  4.58  4.58   4.58  ...        4.580000     12   31            5\n",
              "2407  5.00  5.00  5.00   5.00  ...        5.000000      1    1            6\n",
              "3847  5.00  5.00  5.00   5.00  ...        5.000000      1    2            0\n",
              "5287  5.29  5.29  5.29   5.29  ...        5.290000      1    3            1\n",
              "6727  5.37  5.57  5.37   5.57  ...        5.442972      1    4            2\n",
              "\n",
              "[5 rows x 10 columns]"
            ]
          },
          "metadata": {
            "tags": []
          },
          "execution_count": 102
        }
      ]
    },
    {
      "cell_type": "code",
      "metadata": {
        "id": "m2-fLifF0x9w",
        "colab_type": "code",
        "colab": {
          "base_uri": "https://localhost:8080/",
          "height": 483
        },
        "outputId": "53445dee-b8d7-4f67-b5cb-9cba80338eaf"
      },
      "source": [
        "df[\"future\"] = df[\"Close\"].shift(-7)\n",
        "df[[\"Close\", \"future\"]].head(14)"
      ],
      "execution_count": 103,
      "outputs": [
        {
          "output_type": "execute_result",
          "data": {
            "text/html": [
              "<div>\n",
              "<style scoped>\n",
              "    .dataframe tbody tr th:only-of-type {\n",
              "        vertical-align: middle;\n",
              "    }\n",
              "\n",
              "    .dataframe tbody tr th {\n",
              "        vertical-align: top;\n",
              "    }\n",
              "\n",
              "    .dataframe thead th {\n",
              "        text-align: right;\n",
              "    }\n",
              "</style>\n",
              "<table border=\"1\" class=\"dataframe\">\n",
              "  <thead>\n",
              "    <tr style=\"text-align: right;\">\n",
              "      <th></th>\n",
              "      <th>Close</th>\n",
              "      <th>future</th>\n",
              "    </tr>\n",
              "  </thead>\n",
              "  <tbody>\n",
              "    <tr>\n",
              "      <th>967</th>\n",
              "      <td>4.58</td>\n",
              "      <td>6.80</td>\n",
              "    </tr>\n",
              "    <tr>\n",
              "      <th>2407</th>\n",
              "      <td>5.00</td>\n",
              "      <td>7.00</td>\n",
              "    </tr>\n",
              "    <tr>\n",
              "      <th>3847</th>\n",
              "      <td>5.00</td>\n",
              "      <td>6.30</td>\n",
              "    </tr>\n",
              "    <tr>\n",
              "      <th>5287</th>\n",
              "      <td>5.29</td>\n",
              "      <td>7.14</td>\n",
              "    </tr>\n",
              "    <tr>\n",
              "      <th>6727</th>\n",
              "      <td>5.57</td>\n",
              "      <td>7.00</td>\n",
              "    </tr>\n",
              "    <tr>\n",
              "      <th>8167</th>\n",
              "      <td>6.65</td>\n",
              "      <td>6.51</td>\n",
              "    </tr>\n",
              "    <tr>\n",
              "      <th>9607</th>\n",
              "      <td>6.00</td>\n",
              "      <td>6.60</td>\n",
              "    </tr>\n",
              "    <tr>\n",
              "      <th>11047</th>\n",
              "      <td>6.80</td>\n",
              "      <td>6.30</td>\n",
              "    </tr>\n",
              "    <tr>\n",
              "      <th>12487</th>\n",
              "      <td>7.00</td>\n",
              "      <td>7.15</td>\n",
              "    </tr>\n",
              "    <tr>\n",
              "      <th>13927</th>\n",
              "      <td>6.30</td>\n",
              "      <td>7.10</td>\n",
              "    </tr>\n",
              "    <tr>\n",
              "      <th>15367</th>\n",
              "      <td>7.14</td>\n",
              "      <td>6.00</td>\n",
              "    </tr>\n",
              "    <tr>\n",
              "      <th>16807</th>\n",
              "      <td>7.00</td>\n",
              "      <td>7.10</td>\n",
              "    </tr>\n",
              "    <tr>\n",
              "      <th>18247</th>\n",
              "      <td>6.51</td>\n",
              "      <td>6.22</td>\n",
              "    </tr>\n",
              "    <tr>\n",
              "      <th>19687</th>\n",
              "      <td>6.60</td>\n",
              "      <td>6.95</td>\n",
              "    </tr>\n",
              "  </tbody>\n",
              "</table>\n",
              "</div>"
            ],
            "text/plain": [
              "       Close  future\n",
              "967     4.58    6.80\n",
              "2407    5.00    7.00\n",
              "3847    5.00    6.30\n",
              "5287    5.29    7.14\n",
              "6727    5.57    7.00\n",
              "8167    6.65    6.51\n",
              "9607    6.00    6.60\n",
              "11047   6.80    6.30\n",
              "12487   7.00    7.15\n",
              "13927   6.30    7.10\n",
              "15367   7.14    6.00\n",
              "16807   7.00    7.10\n",
              "18247   6.51    6.22\n",
              "19687   6.60    6.95"
            ]
          },
          "metadata": {
            "tags": []
          },
          "execution_count": 103
        }
      ]
    },
    {
      "cell_type": "code",
      "metadata": {
        "id": "j9mdwLDowNpI",
        "colab_type": "code",
        "colab": {
          "base_uri": "https://localhost:8080/",
          "height": 34
        },
        "outputId": "806f50af-149b-4cc8-9dbb-e863317d93f3"
      },
      "source": [
        "# remove last 7 days raw\n",
        "df = df[:len(df)-7]\n",
        "\n",
        "# split train and test\n",
        "train, test = train_test_split(df, train_size=0.8, test_size=0.2, shuffle=False)\n",
        "print(\"train_size:\", len(train), \"test_size:\", len(test))"
      ],
      "execution_count": 104,
      "outputs": [
        {
          "output_type": "stream",
          "text": [
            "train_size: 2420 test_size: 606\n"
          ],
          "name": "stdout"
        }
      ]
    },
    {
      "cell_type": "markdown",
      "metadata": {
        "id": "o_cDsUW504-e",
        "colab_type": "text"
      },
      "source": [
        "# Feature scaling"
      ]
    },
    {
      "cell_type": "code",
      "metadata": {
        "id": "n32LrpAs03a9",
        "colab_type": "code",
        "colab": {}
      },
      "source": [
        "from sklearn.preprocessing import MinMaxScaler\n",
        "sc = MinMaxScaler(feature_range=(0, 1))\n",
        "X_train = sc.fit_transform(train.values)\n",
        "X_test = sc.transform(test.values)"
      ],
      "execution_count": 0,
      "outputs": []
    },
    {
      "cell_type": "code",
      "metadata": {
        "id": "z3inl3Pgrydw",
        "colab_type": "code",
        "colab": {
          "base_uri": "https://localhost:8080/",
          "height": 34
        },
        "outputId": "6f953a9d-dd6e-4f7c-99a0-a01565284d05"
      },
      "source": [
        "X_train.shape\n",
        "X_test.shape"
      ],
      "execution_count": 106,
      "outputs": [
        {
          "output_type": "execute_result",
          "data": {
            "text/plain": [
              "(606, 11)"
            ]
          },
          "metadata": {
            "tags": []
          },
          "execution_count": 106
        }
      ]
    },
    {
      "cell_type": "code",
      "metadata": {
        "id": "4b6ZipqAitw6",
        "colab_type": "code",
        "colab": {}
      },
      "source": [
        "# Define parameter\n",
        "TIMESTEP = 60\n",
        "units = 8\n",
        "batch_size = 8\n",
        "epoch = 100\n",
        "dropout_rate = 0.3\n",
        "optimizer = \"adam\"\n",
        "loss_function = 'mean_squared_error'\n",
        "early_stop = tf.keras.callbacks.EarlyStopping(\n",
        "    monitor='val_loss', patience=3\n",
        ")"
      ],
      "execution_count": 0,
      "outputs": []
    },
    {
      "cell_type": "code",
      "metadata": {
        "id": "DkxH5fypitwx",
        "colab_type": "code",
        "colab": {}
      },
      "source": [
        "def build_dataset(dataset):\n",
        "  sequentioal_data = []\n",
        "  target_data = []\n",
        "  prev_days = deque(maxlen=TIMESTEP)\n",
        "\n",
        "  for i in dataset:\n",
        "    prev_days.append([x for x in i[:-1]])\n",
        "\n",
        "    if len(prev_days) == TIMESTEP:\n",
        "      sequentioal_data.append([np.array(prev_days), i[-1]])\n",
        "  \n",
        "  random.shuffle(sequentioal_data)\n",
        "\n",
        "  x = []\n",
        "  y = []\n",
        "\n",
        "  for seq, target in sequentioal_data:\n",
        "    x.append(seq)\n",
        "    y.append(target)  \n",
        "\n",
        "  return np.array(x), np.array(y)"
      ],
      "execution_count": 0,
      "outputs": []
    },
    {
      "cell_type": "code",
      "metadata": {
        "id": "aHxaLrWcqvwP",
        "colab_type": "code",
        "colab": {}
      },
      "source": [
        "X_train, Y_train = build_dataset(X_train)\n",
        "X_test, Y_test = build_dataset(test.values)"
      ],
      "execution_count": 0,
      "outputs": []
    },
    {
      "cell_type": "code",
      "metadata": {
        "id": "vrEmCu06A1iK",
        "colab_type": "code",
        "colab": {
          "base_uri": "https://localhost:8080/",
          "height": 34
        },
        "outputId": "8b8869d6-b467-4162-a647-3d783451f8a8"
      },
      "source": [
        "X_test.shape"
      ],
      "execution_count": 38,
      "outputs": [
        {
          "output_type": "execute_result",
          "data": {
            "text/plain": [
              "(547, 60, 10)"
            ]
          },
          "metadata": {
            "tags": []
          },
          "execution_count": 38
        }
      ]
    },
    {
      "cell_type": "code",
      "metadata": {
        "id": "MzdFrll7Pr31",
        "colab_type": "code",
        "outputId": "8c89b7e5-bb28-45f9-9c42-42cee2bd16bb",
        "colab": {
          "base_uri": "https://localhost:8080/",
          "height": 255
        }
      },
      "source": [
        "from tensorflow.keras.callbacks import TensorBoard\n",
        "import os\n",
        "\n",
        "# Tensorboard set\n",
        "!wget https://bin.equinox.io/c/4VmDzA7iaHb/ngrok-stable-linux-amd64.zip\n",
        "!unzip ngrok-stable-linux-amd64.zip"
      ],
      "execution_count": 27,
      "outputs": [
        {
          "output_type": "stream",
          "text": [
            "--2020-05-18 00:28:00--  https://bin.equinox.io/c/4VmDzA7iaHb/ngrok-stable-linux-amd64.zip\n",
            "Resolving bin.equinox.io (bin.equinox.io)... 107.23.162.152, 34.231.196.161, 3.95.144.123, ...\n",
            "Connecting to bin.equinox.io (bin.equinox.io)|107.23.162.152|:443... connected.\n",
            "HTTP request sent, awaiting response... 200 OK\n",
            "Length: 13773305 (13M) [application/octet-stream]\n",
            "Saving to: ‘ngrok-stable-linux-amd64.zip.3’\n",
            "\n",
            "ngrok-stable-linux- 100%[===================>]  13.13M  5.35MB/s    in 2.5s    \n",
            "\n",
            "2020-05-18 00:28:03 (5.35 MB/s) - ‘ngrok-stable-linux-amd64.zip.3’ saved [13773305/13773305]\n",
            "\n",
            "Archive:  ngrok-stable-linux-amd64.zip\n",
            "replace ngrok? [y]es, [n]o, [A]ll, [N]one, [r]ename: y\n",
            "  inflating: ngrok                   \n"
          ],
          "name": "stdout"
        }
      ]
    },
    {
      "cell_type": "code",
      "metadata": {
        "id": "dEnxNOgbP0mt",
        "colab_type": "code",
        "colab": {}
      },
      "source": [
        "LOG_DIR = os.path.join(\"logs\")\n",
        "get_ipython().system_raw(\n",
        "    'tensorboard --logdir {} --host 0.0.0.0 --port 6006 &'\n",
        "    .format(LOG_DIR)\n",
        ")\n",
        "\n",
        "get_ipython().system_raw('./ngrok http 6006 &')"
      ],
      "execution_count": 0,
      "outputs": []
    },
    {
      "cell_type": "code",
      "metadata": {
        "id": "xofkM4vtQPqC",
        "colab_type": "code",
        "outputId": "0f023bcc-f423-40e7-869a-3b365e5ae468",
        "colab": {
          "base_uri": "https://localhost:8080/",
          "height": 34
        }
      },
      "source": [
        "#Run tensorboard\n",
        "!curl -s http://localhost:4040/api/tunnels | python3 -c \\\n",
        "    \"import sys, json; print(json.load(sys.stdin)['tunnels'][0]['public_url'])\""
      ],
      "execution_count": 29,
      "outputs": [
        {
          "output_type": "stream",
          "text": [
            "https://d1c1221f.ngrok.io\n"
          ],
          "name": "stdout"
        }
      ]
    },
    {
      "cell_type": "code",
      "metadata": {
        "id": "0s4Of2BcQcSR",
        "colab_type": "code",
        "colab": {}
      },
      "source": [
        "tensorboard_callback = TensorBoard(log_dir=LOG_DIR, histogram_freq=1,\n",
        "                         write_images=True)"
      ],
      "execution_count": 0,
      "outputs": []
    },
    {
      "cell_type": "code",
      "metadata": {
        "id": "amtQ8ABZitw8",
        "colab_type": "code",
        "outputId": "4c33b62b-75fb-4aa0-c317-9e006a117fdb",
        "colab": {
          "base_uri": "https://localhost:8080/",
          "height": 459
        }
      },
      "source": [
        "# create model\n",
        "from tensorflow.keras.models import Sequential\n",
        "from tensorflow.keras.layers import LSTM, Dropout, Dense\n",
        "\n",
        "model = Sequential()\n",
        "\n",
        "model.add(LSTM(units=units, return_sequences=True, input_shape=(X_train.shape[1:])))\n",
        "model.add(Dropout(dropout_rate))\n",
        "\n",
        "model.add(LSTM(units=units, return_sequences=True))\n",
        "model.add(Dropout(dropout_rate))\n",
        "\n",
        "model.add(LSTM(units=units, return_sequences=True))\n",
        "model.add(Dropout(dropout_rate))\n",
        "\n",
        "model.add(LSTM(units=units, return_sequences=True))\n",
        "model.add(Dropout(dropout_rate))\n",
        "\n",
        "model.add(LSTM(units=units))\n",
        "model.add(Dropout(dropout_rate))\n",
        "\n",
        "model.add(Dense(units=1))\n",
        "\n",
        "model.compile(optimizer=optimizer, loss=loss_function, metrics=['mae'])\n",
        "\n",
        "model.fit(X_train, Y_train, epochs=epoch, batch_size=batch_size, validation_split=0.2, verbose=1, callbacks=[early_stop, tensorboard_callback])"
      ],
      "execution_count": 52,
      "outputs": [
        {
          "output_type": "stream",
          "text": [
            "Epoch 1/100\n",
            "  2/236 [..............................] - ETA: 34s - loss: 0.0585 - mae: 0.1172WARNING:tensorflow:Method (on_train_batch_end) is slow compared to the batch update (0.136369). Check your callbacks.\n",
            "236/236 [==============================] - 7s 29ms/step - loss: 0.0109 - mae: 0.0545 - val_loss: 0.0034 - val_mae: 0.0273\n",
            "Epoch 2/100\n",
            "236/236 [==============================] - 5s 22ms/step - loss: 0.0058 - mae: 0.0412 - val_loss: 0.0040 - val_mae: 0.0414\n",
            "Epoch 3/100\n",
            "236/236 [==============================] - 5s 22ms/step - loss: 0.0051 - mae: 0.0397 - val_loss: 0.0019 - val_mae: 0.0249\n",
            "Epoch 4/100\n",
            "236/236 [==============================] - 5s 22ms/step - loss: 0.0039 - mae: 0.0369 - val_loss: 0.0022 - val_mae: 0.0245\n",
            "Epoch 5/100\n",
            "236/236 [==============================] - 5s 22ms/step - loss: 0.0044 - mae: 0.0394 - val_loss: 0.0015 - val_mae: 0.0224\n",
            "Epoch 6/100\n",
            "236/236 [==============================] - 5s 22ms/step - loss: 0.0038 - mae: 0.0367 - val_loss: 0.0014 - val_mae: 0.0201\n",
            "Epoch 7/100\n",
            "236/236 [==============================] - 5s 22ms/step - loss: 0.0036 - mae: 0.0361 - val_loss: 0.0016 - val_mae: 0.0201\n",
            "Epoch 8/100\n",
            "236/236 [==============================] - 5s 22ms/step - loss: 0.0034 - mae: 0.0353 - val_loss: 0.0014 - val_mae: 0.0182\n",
            "Epoch 9/100\n",
            "236/236 [==============================] - 5s 22ms/step - loss: 0.0034 - mae: 0.0339 - val_loss: 0.0011 - val_mae: 0.0162\n",
            "Epoch 10/100\n",
            "236/236 [==============================] - 5s 22ms/step - loss: 0.0032 - mae: 0.0330 - val_loss: 0.0013 - val_mae: 0.0180\n",
            "Epoch 11/100\n",
            "236/236 [==============================] - 5s 22ms/step - loss: 0.0030 - mae: 0.0328 - val_loss: 0.0012 - val_mae: 0.0210\n",
            "Epoch 12/100\n",
            "236/236 [==============================] - 5s 22ms/step - loss: 0.0026 - mae: 0.0310 - val_loss: 0.0019 - val_mae: 0.0258\n"
          ],
          "name": "stdout"
        },
        {
          "output_type": "execute_result",
          "data": {
            "text/plain": [
              "<tensorflow.python.keras.callbacks.History at 0x7fa6f9e83048>"
            ]
          },
          "metadata": {
            "tags": []
          },
          "execution_count": 52
        }
      ]
    },
    {
      "cell_type": "code",
      "metadata": {
        "id": "Gj0eL3VnPgFM",
        "colab_type": "code",
        "colab": {}
      },
      "source": [
        "inputs = test.values\n",
        "\n",
        "# for transform\n",
        "X_test, Y_test = build_dataset(inputs)\n",
        "predicted_price = model.predict(X_test)\n",
        "\n",
        "trainPredict_dataset_like = np.zeros(shape=(len(predicted_price), 11))\n",
        "trainPredict_dataset_like[:,0] = predicted_price[:,0]\n",
        "predicted_price = sc.inverse_transform(trainPredict_dataset_like)[:, 0]"
      ],
      "execution_count": 0,
      "outputs": []
    },
    {
      "cell_type": "code",
      "metadata": {
        "id": "CbZrQvLnJiWD",
        "colab_type": "code",
        "colab": {
          "base_uri": "https://localhost:8080/",
          "height": 295
        },
        "outputId": "ec43d265-8f09-4d07-9258-1c4f7aa32ac6"
      },
      "source": [
        "plt.plot(Y_test, color = 'black', label = 'TATA Stock Price')\n",
        "plt.plot(predicted_price, color = 'green', label = 'Predicted TATA Stock Price')\n",
        "plt.title('TATA Stock Price Prediction')\n",
        "plt.xlabel('Time')\n",
        "plt.ylabel('TATA Stock Price')\n",
        "plt.legend()\n",
        "plt.show()"
      ],
      "execution_count": 129,
      "outputs": [
        {
          "output_type": "display_data",
          "data": {
            "image/png": "[encoded data removed]",
            "text/plain": [
              "<Figure size 432x288 with 1 Axes>"
            ]
          },
          "metadata": {
            "tags": [],
            "needs_background": "light"
          }
        }
      ]
    },
    {
      "cell_type": "code",
      "metadata": {
        "id": "iyGdhkTtVmxF",
        "colab_type": "code",
        "colab": {}
      },
      "source": [
        ""
      ],
      "execution_count": 0,
      "outputs": []
    }
  ]
}