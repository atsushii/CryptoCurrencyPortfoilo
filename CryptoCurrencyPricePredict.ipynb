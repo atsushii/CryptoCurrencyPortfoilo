{
  "nbformat": 4,
  "nbformat_minor": 0,
  "metadata": {
    "kernelspec": {
      "display_name": "Python 3",
      "language": "python",
      "name": "python3"
    },
    "language_info": {
      "codemirror_mode": {
        "name": "ipython",
        "version": 3
      },
      "file_extension": ".py",
      "mimetype": "text/x-python",
      "name": "python",
      "nbconvert_exporter": "python",
      "pygments_lexer": "ipython3",
      "version": "3.7.5"
    },
    "colab": {
      "name": "CryptoCurrencyPricePredict.ipynb",
      "provenance": [],
      "collapsed_sections": [],
      "toc_visible": true
    },
    "accelerator": "GPU"
  },
  "cells": [
    {
      "cell_type": "code",
      "metadata": {
        "id": "_iYMIElHiy4X",
        "colab_type": "code",
        "outputId": "188bd74f-50b5-46a0-faf2-ce509271a255",
        "colab": {
          "base_uri": "https://localhost:8080/",
          "height": 34
        }
      },
      "source": [
        "from google.colab import drive\n",
        "drive.mount('/content/drive')"
      ],
      "execution_count": 1,
      "outputs": [
        {
          "output_type": "stream",
          "text": [
            "Drive already mounted at /content/drive; to attempt to forcibly remount, call drive.mount(\"/content/drive\", force_remount=True).\n"
          ],
          "name": "stdout"
        }
      ]
    },
    {
      "cell_type": "code",
      "metadata": {
        "id": "Bj4wqMPUitvR",
        "colab_type": "code",
        "colab": {}
      },
      "source": [
        "import pandas as pd\n",
        "import numpy as np\n",
        "import matplotlib.pyplot as plt\n",
        "from matplotlib.pyplot import cm\n",
        "import datetime\n",
        "import random\n",
        "from collections import deque\n",
        "from sklearn.model_selection import train_test_split\n",
        "import tensorflow as tf\n",
        "from tensorboardcolab import TensorBoardColab, TensorBoardColabCallback\n",
        "import tqdm\n",
        "from tensorflow.keras.callbacks import TensorBoard\n",
        "import os"
      ],
      "execution_count": 0,
      "outputs": []
    },
    {
      "cell_type": "code",
      "metadata": {
        "id": "A3NvLPfMitvd",
        "colab_type": "code",
        "colab": {}
      },
      "source": [
        "# load data\n",
        "df = pd.read_csv(\"/content/drive/My Drive/bitstampUSD_1-min_data_2012-01-01_to_2020-04-22.csv\")"
      ],
      "execution_count": 0,
      "outputs": []
    },
    {
      "cell_type": "code",
      "metadata": {
        "id": "2Mu88uT7itvj",
        "colab_type": "code",
        "outputId": "07cca909-f0f9-4c0d-f023-5b6fbd335779",
        "colab": {
          "base_uri": "https://localhost:8080/",
          "height": 204
        }
      },
      "source": [
        "df.head()"
      ],
      "execution_count": 4,
      "outputs": [
        {
          "output_type": "execute_result",
          "data": {
            "text/html": [
              "<div>\n",
              "<style scoped>\n",
              "    .dataframe tbody tr th:only-of-type {\n",
              "        vertical-align: middle;\n",
              "    }\n",
              "\n",
              "    .dataframe tbody tr th {\n",
              "        vertical-align: top;\n",
              "    }\n",
              "\n",
              "    .dataframe thead th {\n",
              "        text-align: right;\n",
              "    }\n",
              "</style>\n",
              "<table border=\"1\" class=\"dataframe\">\n",
              "  <thead>\n",
              "    <tr style=\"text-align: right;\">\n",
              "      <th></th>\n",
              "      <th>Timestamp</th>\n",
              "      <th>Open</th>\n",
              "      <th>High</th>\n",
              "      <th>Low</th>\n",
              "      <th>Close</th>\n",
              "      <th>Volume_(BTC)</th>\n",
              "      <th>Volume_(Currency)</th>\n",
              "      <th>Weighted_Price</th>\n",
              "    </tr>\n",
              "  </thead>\n",
              "  <tbody>\n",
              "    <tr>\n",
              "      <th>0</th>\n",
              "      <td>1325317920</td>\n",
              "      <td>4.39</td>\n",
              "      <td>4.39</td>\n",
              "      <td>4.39</td>\n",
              "      <td>4.39</td>\n",
              "      <td>0.455581</td>\n",
              "      <td>2.0</td>\n",
              "      <td>4.39</td>\n",
              "    </tr>\n",
              "    <tr>\n",
              "      <th>1</th>\n",
              "      <td>1325317980</td>\n",
              "      <td>NaN</td>\n",
              "      <td>NaN</td>\n",
              "      <td>NaN</td>\n",
              "      <td>NaN</td>\n",
              "      <td>NaN</td>\n",
              "      <td>NaN</td>\n",
              "      <td>NaN</td>\n",
              "    </tr>\n",
              "    <tr>\n",
              "      <th>2</th>\n",
              "      <td>1325318040</td>\n",
              "      <td>NaN</td>\n",
              "      <td>NaN</td>\n",
              "      <td>NaN</td>\n",
              "      <td>NaN</td>\n",
              "      <td>NaN</td>\n",
              "      <td>NaN</td>\n",
              "      <td>NaN</td>\n",
              "    </tr>\n",
              "    <tr>\n",
              "      <th>3</th>\n",
              "      <td>1325318100</td>\n",
              "      <td>NaN</td>\n",
              "      <td>NaN</td>\n",
              "      <td>NaN</td>\n",
              "      <td>NaN</td>\n",
              "      <td>NaN</td>\n",
              "      <td>NaN</td>\n",
              "      <td>NaN</td>\n",
              "    </tr>\n",
              "    <tr>\n",
              "      <th>4</th>\n",
              "      <td>1325318160</td>\n",
              "      <td>NaN</td>\n",
              "      <td>NaN</td>\n",
              "      <td>NaN</td>\n",
              "      <td>NaN</td>\n",
              "      <td>NaN</td>\n",
              "      <td>NaN</td>\n",
              "      <td>NaN</td>\n",
              "    </tr>\n",
              "  </tbody>\n",
              "</table>\n",
              "</div>"
            ],
            "text/plain": [
              "    Timestamp  Open  High  ...  Volume_(BTC)  Volume_(Currency)  Weighted_Price\n",
              "0  1325317920  4.39  4.39  ...      0.455581                2.0            4.39\n",
              "1  1325317980   NaN   NaN  ...           NaN                NaN             NaN\n",
              "2  1325318040   NaN   NaN  ...           NaN                NaN             NaN\n",
              "3  1325318100   NaN   NaN  ...           NaN                NaN             NaN\n",
              "4  1325318160   NaN   NaN  ...           NaN                NaN             NaN\n",
              "\n",
              "[5 rows x 8 columns]"
            ]
          },
          "metadata": {
            "tags": []
          },
          "execution_count": 4
        }
      ]
    },
    {
      "cell_type": "markdown",
      "metadata": {
        "id": "IRld6F5Oitvt",
        "colab_type": "text"
      },
      "source": [
        "Timestap is unix time. I will convert unix time to more readable data"
      ]
    },
    {
      "cell_type": "code",
      "metadata": {
        "id": "X6lm9jt6itvu",
        "colab_type": "code",
        "colab": {}
      },
      "source": [
        "df[\"Timestamp\"] = pd.to_datetime(df[\"Timestamp\"], unit=\"s\")"
      ],
      "execution_count": 0,
      "outputs": []
    },
    {
      "cell_type": "code",
      "metadata": {
        "id": "BfoCTCTLitv2",
        "colab_type": "code",
        "outputId": "b76cf6e2-001f-420a-8183-1fa251d65737",
        "colab": {
          "base_uri": "https://localhost:8080/",
          "height": 204
        }
      },
      "source": [
        "# now Timestamp was converted \n",
        "df.tail()"
      ],
      "execution_count": 6,
      "outputs": [
        {
          "output_type": "execute_result",
          "data": {
            "text/html": [
              "<div>\n",
              "<style scoped>\n",
              "    .dataframe tbody tr th:only-of-type {\n",
              "        vertical-align: middle;\n",
              "    }\n",
              "\n",
              "    .dataframe tbody tr th {\n",
              "        vertical-align: top;\n",
              "    }\n",
              "\n",
              "    .dataframe thead th {\n",
              "        text-align: right;\n",
              "    }\n",
              "</style>\n",
              "<table border=\"1\" class=\"dataframe\">\n",
              "  <thead>\n",
              "    <tr style=\"text-align: right;\">\n",
              "      <th></th>\n",
              "      <th>Timestamp</th>\n",
              "      <th>Open</th>\n",
              "      <th>High</th>\n",
              "      <th>Low</th>\n",
              "      <th>Close</th>\n",
              "      <th>Volume_(BTC)</th>\n",
              "      <th>Volume_(Currency)</th>\n",
              "      <th>Weighted_Price</th>\n",
              "    </tr>\n",
              "  </thead>\n",
              "  <tbody>\n",
              "    <tr>\n",
              "      <th>4363452</th>\n",
              "      <td>2020-04-21 23:56:00</td>\n",
              "      <td>6847.97</td>\n",
              "      <td>6856.35</td>\n",
              "      <td>6847.97</td>\n",
              "      <td>6856.35</td>\n",
              "      <td>0.125174</td>\n",
              "      <td>858.128697</td>\n",
              "      <td>6855.498790</td>\n",
              "    </tr>\n",
              "    <tr>\n",
              "      <th>4363453</th>\n",
              "      <td>2020-04-21 23:57:00</td>\n",
              "      <td>6850.23</td>\n",
              "      <td>6856.13</td>\n",
              "      <td>6850.23</td>\n",
              "      <td>6850.89</td>\n",
              "      <td>1.224777</td>\n",
              "      <td>8396.781459</td>\n",
              "      <td>6855.763449</td>\n",
              "    </tr>\n",
              "    <tr>\n",
              "      <th>4363454</th>\n",
              "      <td>2020-04-21 23:58:00</td>\n",
              "      <td>6846.50</td>\n",
              "      <td>6857.45</td>\n",
              "      <td>6846.02</td>\n",
              "      <td>6857.45</td>\n",
              "      <td>7.089168</td>\n",
              "      <td>48533.089069</td>\n",
              "      <td>6846.090966</td>\n",
              "    </tr>\n",
              "    <tr>\n",
              "      <th>4363455</th>\n",
              "      <td>2020-04-21 23:59:00</td>\n",
              "      <td>6854.18</td>\n",
              "      <td>6854.98</td>\n",
              "      <td>6854.18</td>\n",
              "      <td>6854.98</td>\n",
              "      <td>0.012231</td>\n",
              "      <td>83.831604</td>\n",
              "      <td>6854.195090</td>\n",
              "    </tr>\n",
              "    <tr>\n",
              "      <th>4363456</th>\n",
              "      <td>2020-04-22 00:00:00</td>\n",
              "      <td>6850.60</td>\n",
              "      <td>6850.60</td>\n",
              "      <td>6850.60</td>\n",
              "      <td>6850.60</td>\n",
              "      <td>0.014436</td>\n",
              "      <td>98.896906</td>\n",
              "      <td>6850.600000</td>\n",
              "    </tr>\n",
              "  </tbody>\n",
              "</table>\n",
              "</div>"
            ],
            "text/plain": [
              "                  Timestamp     Open  ...  Volume_(Currency)  Weighted_Price\n",
              "4363452 2020-04-21 23:56:00  6847.97  ...         858.128697     6855.498790\n",
              "4363453 2020-04-21 23:57:00  6850.23  ...        8396.781459     6855.763449\n",
              "4363454 2020-04-21 23:58:00  6846.50  ...       48533.089069     6846.090966\n",
              "4363455 2020-04-21 23:59:00  6854.18  ...          83.831604     6854.195090\n",
              "4363456 2020-04-22 00:00:00  6850.60  ...          98.896906     6850.600000\n",
              "\n",
              "[5 rows x 8 columns]"
            ]
          },
          "metadata": {
            "tags": []
          },
          "execution_count": 6
        }
      ]
    },
    {
      "cell_type": "code",
      "metadata": {
        "id": "SnPNEzMuitv9",
        "colab_type": "code",
        "outputId": "77b939ea-9f5b-4167-f417-23c3cee086ee",
        "colab": {
          "base_uri": "https://localhost:8080/",
          "height": 34
        }
      },
      "source": [
        "df[\"Close\"].isnull().sum()"
      ],
      "execution_count": 7,
      "outputs": [
        {
          "output_type": "execute_result",
          "data": {
            "text/plain": [
              "1236977"
            ]
          },
          "metadata": {
            "tags": []
          },
          "execution_count": 7
        }
      ]
    },
    {
      "cell_type": "code",
      "metadata": {
        "id": "6869jiAlitwE",
        "colab_type": "code",
        "outputId": "b01ae091-2258-4ba2-cf9d-b0eb1abbab95",
        "colab": {
          "base_uri": "https://localhost:8080/",
          "height": 272
        }
      },
      "source": [
        "df.info()"
      ],
      "execution_count": 8,
      "outputs": [
        {
          "output_type": "stream",
          "text": [
            "<class 'pandas.core.frame.DataFrame'>\n",
            "RangeIndex: 4363457 entries, 0 to 4363456\n",
            "Data columns (total 8 columns):\n",
            " #   Column             Dtype         \n",
            "---  ------             -----         \n",
            " 0   Timestamp          datetime64[ns]\n",
            " 1   Open               float64       \n",
            " 2   High               float64       \n",
            " 3   Low                float64       \n",
            " 4   Close              float64       \n",
            " 5   Volume_(BTC)       float64       \n",
            " 6   Volume_(Currency)  float64       \n",
            " 7   Weighted_Price     float64       \n",
            "dtypes: datetime64[ns](1), float64(7)\n",
            "memory usage: 266.3 MB\n"
          ],
          "name": "stdout"
        }
      ]
    },
    {
      "cell_type": "code",
      "metadata": {
        "id": "2ncYmdhTitwJ",
        "colab_type": "code",
        "outputId": "98b60576-5628-496b-c10c-84e498eae1ae",
        "colab": {
          "base_uri": "https://localhost:8080/",
          "height": 334
        }
      },
      "source": [
        "df.set_index(\"Timestamp\")[\"Close\"].plot(figsize=(12, 5), title=\"BTC PRICE\")\n",
        "plt.xlabel(\"date\")\n",
        "plt.ylabel(\"price\")\n",
        "plt.show()"
      ],
      "execution_count": 9,
      "outputs": [
        {
          "output_type": "display_data",
          "data": {
            "image/png": "[encoded data removed]",
            "text/plain": [
              "<Figure size 864x360 with 1 Axes>"
            ]
          },
          "metadata": {
            "tags": [],
            "needs_background": "light"
          }
        }
      ]
    },
    {
      "cell_type": "markdown",
      "metadata": {
        "id": "aUUYbyxSitwM",
        "colab_type": "text"
      },
      "source": [
        "As some people know that price was increased on 2018\n",
        "\n",
        "Let me check volume as well"
      ]
    },
    {
      "cell_type": "code",
      "metadata": {
        "id": "0opHn_X2itwN",
        "colab_type": "code",
        "outputId": "cab554b5-fcac-44cd-ed12-5d4be10c5d8f",
        "colab": {
          "base_uri": "https://localhost:8080/",
          "height": 334
        }
      },
      "source": [
        "df.set_index(\"Timestamp\")[\"Volume_(Currency)\"].plot(figsize=(12, 5))\n",
        "plt.title(\"Volume\")\n",
        "plt.xlabel(\"date\")\n",
        "plt.ylabel(\"volume\")\n",
        "plt.show()"
      ],
      "execution_count": 10,
      "outputs": [
        {
          "output_type": "display_data",
          "data": {
            "image/png": "[encoded data removed]",
            "text/plain": [
              "<Figure size 864x360 with 1 Axes>"
            ]
          },
          "metadata": {
            "tags": [],
            "needs_background": "light"
          }
        }
      ]
    },
    {
      "cell_type": "markdown",
      "metadata": {
        "id": "oXyQMYzRitwQ",
        "colab_type": "text"
      },
      "source": [
        "As you see in the plot, Volume is increasing even now"
      ]
    },
    {
      "cell_type": "code",
      "metadata": {
        "id": "wbyQncFgitwR",
        "colab_type": "code",
        "colab": {}
      },
      "source": [
        "# create date columns\n",
        "df[\"year\"] = df[\"Timestamp\"].dt.year\n",
        "df[\"month\"] = df[\"Timestamp\"].dt.month\n",
        "df[\"day\"] = df[\"Timestamp\"].dt.day\n",
        "df[\"day_of_week\"] = df[\"Timestamp\"].dt.dayofweek"
      ],
      "execution_count": 0,
      "outputs": []
    },
    {
      "cell_type": "code",
      "metadata": {
        "id": "mn_n2z7WitwU",
        "colab_type": "code",
        "outputId": "30b90559-0528-4a3c-a4d5-28aab35d3a7b",
        "colab": {
          "base_uri": "https://localhost:8080/",
          "height": 204
        }
      },
      "source": [
        "df.head()"
      ],
      "execution_count": 12,
      "outputs": [
        {
          "output_type": "execute_result",
          "data": {
            "text/html": [
              "<div>\n",
              "<style scoped>\n",
              "    .dataframe tbody tr th:only-of-type {\n",
              "        vertical-align: middle;\n",
              "    }\n",
              "\n",
              "    .dataframe tbody tr th {\n",
              "        vertical-align: top;\n",
              "    }\n",
              "\n",
              "    .dataframe thead th {\n",
              "        text-align: right;\n",
              "    }\n",
              "</style>\n",
              "<table border=\"1\" class=\"dataframe\">\n",
              "  <thead>\n",
              "    <tr style=\"text-align: right;\">\n",
              "      <th></th>\n",
              "      <th>Timestamp</th>\n",
              "      <th>Open</th>\n",
              "      <th>High</th>\n",
              "      <th>Low</th>\n",
              "      <th>Close</th>\n",
              "      <th>Volume_(BTC)</th>\n",
              "      <th>Volume_(Currency)</th>\n",
              "      <th>Weighted_Price</th>\n",
              "      <th>year</th>\n",
              "      <th>month</th>\n",
              "      <th>day</th>\n",
              "      <th>day_of_week</th>\n",
              "    </tr>\n",
              "  </thead>\n",
              "  <tbody>\n",
              "    <tr>\n",
              "      <th>0</th>\n",
              "      <td>2011-12-31 07:52:00</td>\n",
              "      <td>4.39</td>\n",
              "      <td>4.39</td>\n",
              "      <td>4.39</td>\n",
              "      <td>4.39</td>\n",
              "      <td>0.455581</td>\n",
              "      <td>2.0</td>\n",
              "      <td>4.39</td>\n",
              "      <td>2011</td>\n",
              "      <td>12</td>\n",
              "      <td>31</td>\n",
              "      <td>5</td>\n",
              "    </tr>\n",
              "    <tr>\n",
              "      <th>1</th>\n",
              "      <td>2011-12-31 07:53:00</td>\n",
              "      <td>NaN</td>\n",
              "      <td>NaN</td>\n",
              "      <td>NaN</td>\n",
              "      <td>NaN</td>\n",
              "      <td>NaN</td>\n",
              "      <td>NaN</td>\n",
              "      <td>NaN</td>\n",
              "      <td>2011</td>\n",
              "      <td>12</td>\n",
              "      <td>31</td>\n",
              "      <td>5</td>\n",
              "    </tr>\n",
              "    <tr>\n",
              "      <th>2</th>\n",
              "      <td>2011-12-31 07:54:00</td>\n",
              "      <td>NaN</td>\n",
              "      <td>NaN</td>\n",
              "      <td>NaN</td>\n",
              "      <td>NaN</td>\n",
              "      <td>NaN</td>\n",
              "      <td>NaN</td>\n",
              "      <td>NaN</td>\n",
              "      <td>2011</td>\n",
              "      <td>12</td>\n",
              "      <td>31</td>\n",
              "      <td>5</td>\n",
              "    </tr>\n",
              "    <tr>\n",
              "      <th>3</th>\n",
              "      <td>2011-12-31 07:55:00</td>\n",
              "      <td>NaN</td>\n",
              "      <td>NaN</td>\n",
              "      <td>NaN</td>\n",
              "      <td>NaN</td>\n",
              "      <td>NaN</td>\n",
              "      <td>NaN</td>\n",
              "      <td>NaN</td>\n",
              "      <td>2011</td>\n",
              "      <td>12</td>\n",
              "      <td>31</td>\n",
              "      <td>5</td>\n",
              "    </tr>\n",
              "    <tr>\n",
              "      <th>4</th>\n",
              "      <td>2011-12-31 07:56:00</td>\n",
              "      <td>NaN</td>\n",
              "      <td>NaN</td>\n",
              "      <td>NaN</td>\n",
              "      <td>NaN</td>\n",
              "      <td>NaN</td>\n",
              "      <td>NaN</td>\n",
              "      <td>NaN</td>\n",
              "      <td>2011</td>\n",
              "      <td>12</td>\n",
              "      <td>31</td>\n",
              "      <td>5</td>\n",
              "    </tr>\n",
              "  </tbody>\n",
              "</table>\n",
              "</div>"
            ],
            "text/plain": [
              "            Timestamp  Open  High   Low  ...  year  month  day  day_of_week\n",
              "0 2011-12-31 07:52:00  4.39  4.39  4.39  ...  2011     12   31            5\n",
              "1 2011-12-31 07:53:00   NaN   NaN   NaN  ...  2011     12   31            5\n",
              "2 2011-12-31 07:54:00   NaN   NaN   NaN  ...  2011     12   31            5\n",
              "3 2011-12-31 07:55:00   NaN   NaN   NaN  ...  2011     12   31            5\n",
              "4 2011-12-31 07:56:00   NaN   NaN   NaN  ...  2011     12   31            5\n",
              "\n",
              "[5 rows x 12 columns]"
            ]
          },
          "metadata": {
            "tags": []
          },
          "execution_count": 12
        }
      ]
    },
    {
      "cell_type": "markdown",
      "metadata": {
        "id": "QCh4DDmYitwX",
        "colab_type": "text"
      },
      "source": [
        "fill in all of the nulls with the last known value."
      ]
    },
    {
      "cell_type": "code",
      "metadata": {
        "id": "uMDl5v2iitwY",
        "colab_type": "code",
        "colab": {}
      },
      "source": [
        "df = df.fillna(method=\"ffill\")"
      ],
      "execution_count": 0,
      "outputs": []
    },
    {
      "cell_type": "code",
      "metadata": {
        "id": "XBReS8Ifitwc",
        "colab_type": "code",
        "outputId": "2e5a1c48-784e-4138-d035-ee7b0bd6a2ce",
        "colab": {
          "base_uri": "https://localhost:8080/",
          "height": 204
        }
      },
      "source": [
        "df.head()"
      ],
      "execution_count": 14,
      "outputs": [
        {
          "output_type": "execute_result",
          "data": {
            "text/html": [
              "<div>\n",
              "<style scoped>\n",
              "    .dataframe tbody tr th:only-of-type {\n",
              "        vertical-align: middle;\n",
              "    }\n",
              "\n",
              "    .dataframe tbody tr th {\n",
              "        vertical-align: top;\n",
              "    }\n",
              "\n",
              "    .dataframe thead th {\n",
              "        text-align: right;\n",
              "    }\n",
              "</style>\n",
              "<table border=\"1\" class=\"dataframe\">\n",
              "  <thead>\n",
              "    <tr style=\"text-align: right;\">\n",
              "      <th></th>\n",
              "      <th>Timestamp</th>\n",
              "      <th>Open</th>\n",
              "      <th>High</th>\n",
              "      <th>Low</th>\n",
              "      <th>Close</th>\n",
              "      <th>Volume_(BTC)</th>\n",
              "      <th>Volume_(Currency)</th>\n",
              "      <th>Weighted_Price</th>\n",
              "      <th>year</th>\n",
              "      <th>month</th>\n",
              "      <th>day</th>\n",
              "      <th>day_of_week</th>\n",
              "    </tr>\n",
              "  </thead>\n",
              "  <tbody>\n",
              "    <tr>\n",
              "      <th>0</th>\n",
              "      <td>2011-12-31 07:52:00</td>\n",
              "      <td>4.39</td>\n",
              "      <td>4.39</td>\n",
              "      <td>4.39</td>\n",
              "      <td>4.39</td>\n",
              "      <td>0.455581</td>\n",
              "      <td>2.0</td>\n",
              "      <td>4.39</td>\n",
              "      <td>2011</td>\n",
              "      <td>12</td>\n",
              "      <td>31</td>\n",
              "      <td>5</td>\n",
              "    </tr>\n",
              "    <tr>\n",
              "      <th>1</th>\n",
              "      <td>2011-12-31 07:53:00</td>\n",
              "      <td>4.39</td>\n",
              "      <td>4.39</td>\n",
              "      <td>4.39</td>\n",
              "      <td>4.39</td>\n",
              "      <td>0.455581</td>\n",
              "      <td>2.0</td>\n",
              "      <td>4.39</td>\n",
              "      <td>2011</td>\n",
              "      <td>12</td>\n",
              "      <td>31</td>\n",
              "      <td>5</td>\n",
              "    </tr>\n",
              "    <tr>\n",
              "      <th>2</th>\n",
              "      <td>2011-12-31 07:54:00</td>\n",
              "      <td>4.39</td>\n",
              "      <td>4.39</td>\n",
              "      <td>4.39</td>\n",
              "      <td>4.39</td>\n",
              "      <td>0.455581</td>\n",
              "      <td>2.0</td>\n",
              "      <td>4.39</td>\n",
              "      <td>2011</td>\n",
              "      <td>12</td>\n",
              "      <td>31</td>\n",
              "      <td>5</td>\n",
              "    </tr>\n",
              "    <tr>\n",
              "      <th>3</th>\n",
              "      <td>2011-12-31 07:55:00</td>\n",
              "      <td>4.39</td>\n",
              "      <td>4.39</td>\n",
              "      <td>4.39</td>\n",
              "      <td>4.39</td>\n",
              "      <td>0.455581</td>\n",
              "      <td>2.0</td>\n",
              "      <td>4.39</td>\n",
              "      <td>2011</td>\n",
              "      <td>12</td>\n",
              "      <td>31</td>\n",
              "      <td>5</td>\n",
              "    </tr>\n",
              "    <tr>\n",
              "      <th>4</th>\n",
              "      <td>2011-12-31 07:56:00</td>\n",
              "      <td>4.39</td>\n",
              "      <td>4.39</td>\n",
              "      <td>4.39</td>\n",
              "      <td>4.39</td>\n",
              "      <td>0.455581</td>\n",
              "      <td>2.0</td>\n",
              "      <td>4.39</td>\n",
              "      <td>2011</td>\n",
              "      <td>12</td>\n",
              "      <td>31</td>\n",
              "      <td>5</td>\n",
              "    </tr>\n",
              "  </tbody>\n",
              "</table>\n",
              "</div>"
            ],
            "text/plain": [
              "            Timestamp  Open  High   Low  ...  year  month  day  day_of_week\n",
              "0 2011-12-31 07:52:00  4.39  4.39  4.39  ...  2011     12   31            5\n",
              "1 2011-12-31 07:53:00  4.39  4.39  4.39  ...  2011     12   31            5\n",
              "2 2011-12-31 07:54:00  4.39  4.39  4.39  ...  2011     12   31            5\n",
              "3 2011-12-31 07:55:00  4.39  4.39  4.39  ...  2011     12   31            5\n",
              "4 2011-12-31 07:56:00  4.39  4.39  4.39  ...  2011     12   31            5\n",
              "\n",
              "[5 rows x 12 columns]"
            ]
          },
          "metadata": {
            "tags": []
          },
          "execution_count": 14
        }
      ]
    },
    {
      "cell_type": "markdown",
      "metadata": {
        "id": "ruaEOSH0itwf",
        "colab_type": "text"
      },
      "source": [
        "Check the price by week and month and hour"
      ]
    },
    {
      "cell_type": "code",
      "metadata": {
        "id": "1ZL7CCzTitwg",
        "colab_type": "code",
        "outputId": "9706dc2d-4f92-40d9-e2dd-990f9c1c907b",
        "colab": {
          "base_uri": "https://localhost:8080/",
          "height": 1000
        }
      },
      "source": [
        "plt.figure(figsize=(15, 20))\n",
        "plt.subplots_adjust(hspace=0.8)\n",
        "\n",
        "year = df[\"year\"].unique()\n",
        "\n",
        "color=iter(cm.rainbow(np.linspace(0,1,len(year))))\n",
        "\n",
        "# day of week(Monday=0, Sunday=6)\n",
        "for i, value in enumerate(year):\n",
        "    c = next(color)\n",
        "    plt.subplot(len(year), 1, i+1)\n",
        "    df[df[\"year\"] == value].groupby(\"day_of_week\").mean()[\"Close\"].plot(c=c)\n",
        "    plt.xlabel(\"day of week\")\n",
        "    plt.ylabel(\"mean of price\")\n",
        "    plt.title(value)"
      ],
      "execution_count": 15,
      "outputs": [
        {
          "output_type": "display_data",
          "data": {
            "image/png": "[encoded data removed]",
            "text/plain": [
              "<Figure size 1080x1440 with 10 Axes>"
            ]
          },
          "metadata": {
            "tags": [],
            "needs_background": "light"
          }
        }
      ]
    },
    {
      "cell_type": "markdown",
      "metadata": {
        "id": "KTn3AskEitwm",
        "colab_type": "text"
      },
      "source": [
        "Interestingly since 2012, the trend was almost the same every 2 years\n",
        "\n",
        "I will check price month as well"
      ]
    },
    {
      "cell_type": "code",
      "metadata": {
        "id": "dCTZqE5Iitwm",
        "colab_type": "code",
        "outputId": "b9a330aa-21f6-4d89-827b-c95b9e8ca069",
        "colab": {
          "base_uri": "https://localhost:8080/",
          "height": 1000
        }
      },
      "source": [
        "plt.figure(figsize=(15, 20))\n",
        "plt.subplots_adjust(hspace=0.8)\n",
        "\n",
        "\n",
        "year = df[\"year\"].unique()\n",
        "\n",
        "color=iter(cm.rainbow(np.linspace(0,1,len(year))))\n",
        "\n",
        "# day of week(Monday=0, Sunday=6)\n",
        "for i, value in enumerate(year):\n",
        "    c = next(color)\n",
        "    plt.subplot(len(year), 1, i+1)\n",
        "    df[df[\"year\"] == value].groupby(\"month\").mean()[\"Close\"].plot(c=c)\n",
        "    plt.xlabel(\"month\")\n",
        "    plt.ylabel(\"mean of price\")\n",
        "    plt.title(value)"
      ],
      "execution_count": 16,
      "outputs": [
        {
          "output_type": "display_data",
          "data": {
            "image/png": "[encoded data removed]",
            "text/plain": [
              "<Figure size 1080x1440 with 10 Axes>"
            ]
          },
          "metadata": {
            "tags": [],
            "needs_background": "light"
          }
        }
      ]
    },
    {
      "cell_type": "code",
      "metadata": {
        "id": "V8JItCaaitwp",
        "colab_type": "code",
        "outputId": "89556e9a-17e8-48a0-b10d-9b9c72ff2c67",
        "colab": {
          "base_uri": "https://localhost:8080/",
          "height": 204
        }
      },
      "source": [
        "# drop duplicate date\n",
        "df[\"Timestamp\"] = df[\"Timestamp\"].apply(lambda x: x.replace(minute=0, second=0))\n",
        "df = df.drop_duplicates(subset=\"Timestamp\", keep=\"last\")\n",
        "df.head()"
      ],
      "execution_count": 17,
      "outputs": [
        {
          "output_type": "execute_result",
          "data": {
            "text/html": [
              "<div>\n",
              "<style scoped>\n",
              "    .dataframe tbody tr th:only-of-type {\n",
              "        vertical-align: middle;\n",
              "    }\n",
              "\n",
              "    .dataframe tbody tr th {\n",
              "        vertical-align: top;\n",
              "    }\n",
              "\n",
              "    .dataframe thead th {\n",
              "        text-align: right;\n",
              "    }\n",
              "</style>\n",
              "<table border=\"1\" class=\"dataframe\">\n",
              "  <thead>\n",
              "    <tr style=\"text-align: right;\">\n",
              "      <th></th>\n",
              "      <th>Timestamp</th>\n",
              "      <th>Open</th>\n",
              "      <th>High</th>\n",
              "      <th>Low</th>\n",
              "      <th>Close</th>\n",
              "      <th>Volume_(BTC)</th>\n",
              "      <th>Volume_(Currency)</th>\n",
              "      <th>Weighted_Price</th>\n",
              "      <th>year</th>\n",
              "      <th>month</th>\n",
              "      <th>day</th>\n",
              "      <th>day_of_week</th>\n",
              "    </tr>\n",
              "  </thead>\n",
              "  <tbody>\n",
              "    <tr>\n",
              "      <th>7</th>\n",
              "      <td>2011-12-31 07:00:00</td>\n",
              "      <td>4.39</td>\n",
              "      <td>4.39</td>\n",
              "      <td>4.39</td>\n",
              "      <td>4.39</td>\n",
              "      <td>0.455581</td>\n",
              "      <td>2.0</td>\n",
              "      <td>4.39</td>\n",
              "      <td>2011</td>\n",
              "      <td>12</td>\n",
              "      <td>31</td>\n",
              "      <td>5</td>\n",
              "    </tr>\n",
              "    <tr>\n",
              "      <th>67</th>\n",
              "      <td>2011-12-31 08:00:00</td>\n",
              "      <td>4.39</td>\n",
              "      <td>4.39</td>\n",
              "      <td>4.39</td>\n",
              "      <td>4.39</td>\n",
              "      <td>0.455581</td>\n",
              "      <td>2.0</td>\n",
              "      <td>4.39</td>\n",
              "      <td>2011</td>\n",
              "      <td>12</td>\n",
              "      <td>31</td>\n",
              "      <td>5</td>\n",
              "    </tr>\n",
              "    <tr>\n",
              "      <th>127</th>\n",
              "      <td>2011-12-31 09:00:00</td>\n",
              "      <td>4.39</td>\n",
              "      <td>4.39</td>\n",
              "      <td>4.39</td>\n",
              "      <td>4.39</td>\n",
              "      <td>0.455581</td>\n",
              "      <td>2.0</td>\n",
              "      <td>4.39</td>\n",
              "      <td>2011</td>\n",
              "      <td>12</td>\n",
              "      <td>31</td>\n",
              "      <td>5</td>\n",
              "    </tr>\n",
              "    <tr>\n",
              "      <th>187</th>\n",
              "      <td>2011-12-31 10:00:00</td>\n",
              "      <td>4.39</td>\n",
              "      <td>4.39</td>\n",
              "      <td>4.39</td>\n",
              "      <td>4.39</td>\n",
              "      <td>0.455581</td>\n",
              "      <td>2.0</td>\n",
              "      <td>4.39</td>\n",
              "      <td>2011</td>\n",
              "      <td>12</td>\n",
              "      <td>31</td>\n",
              "      <td>5</td>\n",
              "    </tr>\n",
              "    <tr>\n",
              "      <th>247</th>\n",
              "      <td>2011-12-31 11:00:00</td>\n",
              "      <td>4.39</td>\n",
              "      <td>4.39</td>\n",
              "      <td>4.39</td>\n",
              "      <td>4.39</td>\n",
              "      <td>0.455581</td>\n",
              "      <td>2.0</td>\n",
              "      <td>4.39</td>\n",
              "      <td>2011</td>\n",
              "      <td>12</td>\n",
              "      <td>31</td>\n",
              "      <td>5</td>\n",
              "    </tr>\n",
              "  </tbody>\n",
              "</table>\n",
              "</div>"
            ],
            "text/plain": [
              "              Timestamp  Open  High   Low  ...  year  month  day  day_of_week\n",
              "7   2011-12-31 07:00:00  4.39  4.39  4.39  ...  2011     12   31            5\n",
              "67  2011-12-31 08:00:00  4.39  4.39  4.39  ...  2011     12   31            5\n",
              "127 2011-12-31 09:00:00  4.39  4.39  4.39  ...  2011     12   31            5\n",
              "187 2011-12-31 10:00:00  4.39  4.39  4.39  ...  2011     12   31            5\n",
              "247 2011-12-31 11:00:00  4.39  4.39  4.39  ...  2011     12   31            5\n",
              "\n",
              "[5 rows x 12 columns]"
            ]
          },
          "metadata": {
            "tags": []
          },
          "execution_count": 17
        }
      ]
    },
    {
      "cell_type": "code",
      "metadata": {
        "id": "eww0m6N0l50D",
        "colab_type": "code",
        "outputId": "7325a5a3-3ba9-4db6-9bf8-047d9712f371",
        "colab": {
          "base_uri": "https://localhost:8080/",
          "height": 204
        }
      },
      "source": [
        "# drop unnessesary colum\n",
        "df = df.drop([\"Timestamp\"], axis=1)\n",
        "df.head()"
      ],
      "execution_count": 18,
      "outputs": [
        {
          "output_type": "execute_result",
          "data": {
            "text/html": [
              "<div>\n",
              "<style scoped>\n",
              "    .dataframe tbody tr th:only-of-type {\n",
              "        vertical-align: middle;\n",
              "    }\n",
              "\n",
              "    .dataframe tbody tr th {\n",
              "        vertical-align: top;\n",
              "    }\n",
              "\n",
              "    .dataframe thead th {\n",
              "        text-align: right;\n",
              "    }\n",
              "</style>\n",
              "<table border=\"1\" class=\"dataframe\">\n",
              "  <thead>\n",
              "    <tr style=\"text-align: right;\">\n",
              "      <th></th>\n",
              "      <th>Open</th>\n",
              "      <th>High</th>\n",
              "      <th>Low</th>\n",
              "      <th>Close</th>\n",
              "      <th>Volume_(BTC)</th>\n",
              "      <th>Volume_(Currency)</th>\n",
              "      <th>Weighted_Price</th>\n",
              "      <th>year</th>\n",
              "      <th>month</th>\n",
              "      <th>day</th>\n",
              "      <th>day_of_week</th>\n",
              "    </tr>\n",
              "  </thead>\n",
              "  <tbody>\n",
              "    <tr>\n",
              "      <th>7</th>\n",
              "      <td>4.39</td>\n",
              "      <td>4.39</td>\n",
              "      <td>4.39</td>\n",
              "      <td>4.39</td>\n",
              "      <td>0.455581</td>\n",
              "      <td>2.0</td>\n",
              "      <td>4.39</td>\n",
              "      <td>2011</td>\n",
              "      <td>12</td>\n",
              "      <td>31</td>\n",
              "      <td>5</td>\n",
              "    </tr>\n",
              "    <tr>\n",
              "      <th>67</th>\n",
              "      <td>4.39</td>\n",
              "      <td>4.39</td>\n",
              "      <td>4.39</td>\n",
              "      <td>4.39</td>\n",
              "      <td>0.455581</td>\n",
              "      <td>2.0</td>\n",
              "      <td>4.39</td>\n",
              "      <td>2011</td>\n",
              "      <td>12</td>\n",
              "      <td>31</td>\n",
              "      <td>5</td>\n",
              "    </tr>\n",
              "    <tr>\n",
              "      <th>127</th>\n",
              "      <td>4.39</td>\n",
              "      <td>4.39</td>\n",
              "      <td>4.39</td>\n",
              "      <td>4.39</td>\n",
              "      <td>0.455581</td>\n",
              "      <td>2.0</td>\n",
              "      <td>4.39</td>\n",
              "      <td>2011</td>\n",
              "      <td>12</td>\n",
              "      <td>31</td>\n",
              "      <td>5</td>\n",
              "    </tr>\n",
              "    <tr>\n",
              "      <th>187</th>\n",
              "      <td>4.39</td>\n",
              "      <td>4.39</td>\n",
              "      <td>4.39</td>\n",
              "      <td>4.39</td>\n",
              "      <td>0.455581</td>\n",
              "      <td>2.0</td>\n",
              "      <td>4.39</td>\n",
              "      <td>2011</td>\n",
              "      <td>12</td>\n",
              "      <td>31</td>\n",
              "      <td>5</td>\n",
              "    </tr>\n",
              "    <tr>\n",
              "      <th>247</th>\n",
              "      <td>4.39</td>\n",
              "      <td>4.39</td>\n",
              "      <td>4.39</td>\n",
              "      <td>4.39</td>\n",
              "      <td>0.455581</td>\n",
              "      <td>2.0</td>\n",
              "      <td>4.39</td>\n",
              "      <td>2011</td>\n",
              "      <td>12</td>\n",
              "      <td>31</td>\n",
              "      <td>5</td>\n",
              "    </tr>\n",
              "  </tbody>\n",
              "</table>\n",
              "</div>"
            ],
            "text/plain": [
              "     Open  High   Low  Close  ...  year  month  day  day_of_week\n",
              "7    4.39  4.39  4.39   4.39  ...  2011     12   31            5\n",
              "67   4.39  4.39  4.39   4.39  ...  2011     12   31            5\n",
              "127  4.39  4.39  4.39   4.39  ...  2011     12   31            5\n",
              "187  4.39  4.39  4.39   4.39  ...  2011     12   31            5\n",
              "247  4.39  4.39  4.39   4.39  ...  2011     12   31            5\n",
              "\n",
              "[5 rows x 11 columns]"
            ]
          },
          "metadata": {
            "tags": []
          },
          "execution_count": 18
        }
      ]
    },
    {
      "cell_type": "code",
      "metadata": {
        "id": "m2-fLifF0x9w",
        "colab_type": "code",
        "colab": {
          "base_uri": "https://localhost:8080/",
          "height": 204
        },
        "outputId": "d7ae9867-0b88-49c1-9bba-4b53dff744bf"
      },
      "source": [
        "df[\"future\"] = df[\"Close\"].shift(-24)\n",
        "\n",
        "# remove last 7 days raw\n",
        "df = df[:len(df)-24]\n",
        "\n",
        "df[[\"Close\", \"future\"]].head()\n"
      ],
      "execution_count": 19,
      "outputs": [
        {
          "output_type": "execute_result",
          "data": {
            "text/html": [
              "<div>\n",
              "<style scoped>\n",
              "    .dataframe tbody tr th:only-of-type {\n",
              "        vertical-align: middle;\n",
              "    }\n",
              "\n",
              "    .dataframe tbody tr th {\n",
              "        vertical-align: top;\n",
              "    }\n",
              "\n",
              "    .dataframe thead th {\n",
              "        text-align: right;\n",
              "    }\n",
              "</style>\n",
              "<table border=\"1\" class=\"dataframe\">\n",
              "  <thead>\n",
              "    <tr style=\"text-align: right;\">\n",
              "      <th></th>\n",
              "      <th>Close</th>\n",
              "      <th>future</th>\n",
              "    </tr>\n",
              "  </thead>\n",
              "  <tbody>\n",
              "    <tr>\n",
              "      <th>7</th>\n",
              "      <td>4.39</td>\n",
              "      <td>4.58</td>\n",
              "    </tr>\n",
              "    <tr>\n",
              "      <th>67</th>\n",
              "      <td>4.39</td>\n",
              "      <td>4.58</td>\n",
              "    </tr>\n",
              "    <tr>\n",
              "      <th>127</th>\n",
              "      <td>4.39</td>\n",
              "      <td>4.58</td>\n",
              "    </tr>\n",
              "    <tr>\n",
              "      <th>187</th>\n",
              "      <td>4.39</td>\n",
              "      <td>4.58</td>\n",
              "    </tr>\n",
              "    <tr>\n",
              "      <th>247</th>\n",
              "      <td>4.39</td>\n",
              "      <td>4.58</td>\n",
              "    </tr>\n",
              "  </tbody>\n",
              "</table>\n",
              "</div>"
            ],
            "text/plain": [
              "     Close  future\n",
              "7     4.39    4.58\n",
              "67    4.39    4.58\n",
              "127   4.39    4.58\n",
              "187   4.39    4.58\n",
              "247   4.39    4.58"
            ]
          },
          "metadata": {
            "tags": []
          },
          "execution_count": 19
        }
      ]
    },
    {
      "cell_type": "markdown",
      "metadata": {
        "id": "rpqflZS4gmrT",
        "colab_type": "text"
      },
      "source": [
        "# Feature Selection of Lag Variables"
      ]
    },
    {
      "cell_type": "code",
      "metadata": {
        "id": "iCzvRUWOgq_n",
        "colab_type": "code",
        "colab": {}
      },
      "source": [
        "from sklearn.feature_selection import RFE\n",
        "from sklearn.ensemble import RandomForestRegressor\n",
        "from matplotlib import pyplot\n",
        "\n",
        "y = df[\"future\"]\n",
        "x = df.drop(\"future\", axis=1)\n",
        "\n",
        "model = RFE(RandomForestRegressor(n_estimators=500, random_state=42), 4)\n",
        "model = model.fit(x, y)"
      ],
      "execution_count": 0,
      "outputs": []
    },
    {
      "cell_type": "code",
      "metadata": {
        "id": "4YxZAPtiqQAN",
        "colab_type": "code",
        "colab": {
          "base_uri": "https://localhost:8080/",
          "height": 484
        },
        "outputId": "a4b03bf1-f3f9-4e0c-a973-5227a6dcc9dd"
      },
      "source": [
        "plt.figure(figsize=(12, 8))\n",
        "columns_names = df.columns.values[0:-1]\n",
        "ticks = [i for i in range(len(columns_names))]\n",
        "pyplot.bar(ticks, model.ranking_)\n",
        "pyplot.xticks(ticks, columns_names)\n",
        "pyplot.show()"
      ],
      "execution_count": 64,
      "outputs": [
        {
          "output_type": "display_data",
          "data": {
            "image/png": "[encoded data removed]",
            "text/plain": [
              "<Figure size 864x576 with 1 Axes>"
            ]
          },
          "metadata": {
            "tags": [],
            "needs_background": "light"
          }
        }
      ]
    },
    {
      "cell_type": "markdown",
      "metadata": {
        "id": "qktzkbwTtQYg",
        "colab_type": "text"
      },
      "source": [
        "important feature are [volume_BTC, volume_currency, year, day_of_week]"
      ]
    },
    {
      "cell_type": "code",
      "metadata": {
        "id": "rMSubB0YtgE9",
        "colab_type": "code",
        "colab": {
          "base_uri": "https://localhost:8080/",
          "height": 204
        },
        "outputId": "a1a66f96-04ac-4894-edcf-f1cf029d87a2"
      },
      "source": [
        "# drop unnessesary columns\n",
        "df = df.drop([\"Open\", \"High\", \"Low\", \"Close\", \"Weighted_Price\", \"month\", \"day\"], axis=1)\n",
        "df.head()"
      ],
      "execution_count": 20,
      "outputs": [
        {
          "output_type": "execute_result",
          "data": {
            "text/html": [
              "<div>\n",
              "<style scoped>\n",
              "    .dataframe tbody tr th:only-of-type {\n",
              "        vertical-align: middle;\n",
              "    }\n",
              "\n",
              "    .dataframe tbody tr th {\n",
              "        vertical-align: top;\n",
              "    }\n",
              "\n",
              "    .dataframe thead th {\n",
              "        text-align: right;\n",
              "    }\n",
              "</style>\n",
              "<table border=\"1\" class=\"dataframe\">\n",
              "  <thead>\n",
              "    <tr style=\"text-align: right;\">\n",
              "      <th></th>\n",
              "      <th>Volume_(BTC)</th>\n",
              "      <th>Volume_(Currency)</th>\n",
              "      <th>year</th>\n",
              "      <th>day_of_week</th>\n",
              "      <th>future</th>\n",
              "    </tr>\n",
              "  </thead>\n",
              "  <tbody>\n",
              "    <tr>\n",
              "      <th>7</th>\n",
              "      <td>0.455581</td>\n",
              "      <td>2.0</td>\n",
              "      <td>2011</td>\n",
              "      <td>5</td>\n",
              "      <td>4.58</td>\n",
              "    </tr>\n",
              "    <tr>\n",
              "      <th>67</th>\n",
              "      <td>0.455581</td>\n",
              "      <td>2.0</td>\n",
              "      <td>2011</td>\n",
              "      <td>5</td>\n",
              "      <td>4.58</td>\n",
              "    </tr>\n",
              "    <tr>\n",
              "      <th>127</th>\n",
              "      <td>0.455581</td>\n",
              "      <td>2.0</td>\n",
              "      <td>2011</td>\n",
              "      <td>5</td>\n",
              "      <td>4.58</td>\n",
              "    </tr>\n",
              "    <tr>\n",
              "      <th>187</th>\n",
              "      <td>0.455581</td>\n",
              "      <td>2.0</td>\n",
              "      <td>2011</td>\n",
              "      <td>5</td>\n",
              "      <td>4.58</td>\n",
              "    </tr>\n",
              "    <tr>\n",
              "      <th>247</th>\n",
              "      <td>0.455581</td>\n",
              "      <td>2.0</td>\n",
              "      <td>2011</td>\n",
              "      <td>5</td>\n",
              "      <td>4.58</td>\n",
              "    </tr>\n",
              "  </tbody>\n",
              "</table>\n",
              "</div>"
            ],
            "text/plain": [
              "     Volume_(BTC)  Volume_(Currency)  year  day_of_week  future\n",
              "7        0.455581                2.0  2011            5    4.58\n",
              "67       0.455581                2.0  2011            5    4.58\n",
              "127      0.455581                2.0  2011            5    4.58\n",
              "187      0.455581                2.0  2011            5    4.58\n",
              "247      0.455581                2.0  2011            5    4.58"
            ]
          },
          "metadata": {
            "tags": []
          },
          "execution_count": 20
        }
      ]
    },
    {
      "cell_type": "markdown",
      "metadata": {
        "id": "o_cDsUW504-e",
        "colab_type": "text"
      },
      "source": [
        "# Feature scaling"
      ]
    },
    {
      "cell_type": "code",
      "metadata": {
        "id": "j9mdwLDowNpI",
        "colab_type": "code",
        "colab": {
          "base_uri": "https://localhost:8080/",
          "height": 34
        },
        "outputId": "94350bdf-5916-4454-c865-c2e34b00519b"
      },
      "source": [
        "# split train and test\n",
        "train, test = train_test_split(df, train_size=0.8, test_size=0.2, shuffle=False)\n",
        "train, val = train_test_split(train, train_size=0.8, test_size=0.2, shuffle=False)\n",
        "# keep real price for prot\n",
        "real_price = test[\"future\"]\n",
        "\n",
        "print(\"train_size:\", len(train), \"test_size:\", len(test), \"validation:\", len(val))"
      ],
      "execution_count": 35,
      "outputs": [
        {
          "output_type": "stream",
          "text": [
            "train_size: 46529 test_size: 14541 validation: 11633\n"
          ],
          "name": "stdout"
        }
      ]
    },
    {
      "cell_type": "code",
      "metadata": {
        "id": "n32LrpAs03a9",
        "colab_type": "code",
        "colab": {}
      },
      "source": [
        "from sklearn.preprocessing import MinMaxScaler\n",
        "sc = MinMaxScaler(feature_range=(0, 1))\n",
        "X_train = sc.fit_transform(train.values)\n",
        "X_val = sc.fit_transform(val.values)\n",
        "X_test = sc.transform(test.values)"
      ],
      "execution_count": 0,
      "outputs": []
    },
    {
      "cell_type": "code",
      "metadata": {
        "id": "z3inl3Pgrydw",
        "colab_type": "code",
        "colab": {
          "base_uri": "https://localhost:8080/",
          "height": 34
        },
        "outputId": "bfdbe89a-25a9-40c0-e5cd-a75c2510d0b1"
      },
      "source": [
        "X_train.shape, X_val.shape, X_test.shape"
      ],
      "execution_count": 38,
      "outputs": [
        {
          "output_type": "execute_result",
          "data": {
            "text/plain": [
              "((46529, 5), (11633, 5), (14541, 5))"
            ]
          },
          "metadata": {
            "tags": []
          },
          "execution_count": 38
        }
      ]
    },
    {
      "cell_type": "code",
      "metadata": {
        "id": "4b6ZipqAitw6",
        "colab_type": "code",
        "colab": {}
      },
      "source": [
        "# Define parameter\n",
        "TIMESTEP = 1440\n",
        "units = 64\n",
        "batch_size = 64\n",
        "epoch = 10\n",
        "dropout_rate = 0.2\n",
        "optimizer = \"adam\"\n",
        "loss_function = 'mean_squared_error'\n",
        "early_stop = tf.keras.callbacks.EarlyStopping(\n",
        "    monitor='val_loss', patience=3\n",
        ")"
      ],
      "execution_count": 0,
      "outputs": []
    },
    {
      "cell_type": "code",
      "metadata": {
        "id": "DkxH5fypitwx",
        "colab_type": "code",
        "colab": {}
      },
      "source": [
        "def build_dataset(dataset):\n",
        "  sequentioal_data = []\n",
        "  target_data = []\n",
        "  prev_days = deque(maxlen=TIMESTEP)\n",
        "\n",
        "  for i in tqdm.tqdm(dataset):\n",
        "    prev_days.append([x for x in i[:-1]])\n",
        "\n",
        "    if len(prev_days) == TIMESTEP:\n",
        "      sequentioal_data.append([np.array(prev_days), i[-1]])\n",
        "  \n",
        "  random.shuffle(sequentioal_data)\n",
        "\n",
        "  x = []\n",
        "  y = []\n",
        "\n",
        "  for seq, target in sequentioal_data:\n",
        "    x.append(seq)\n",
        "    y.append(target)  \n",
        "\n",
        "  return np.array(x), np.array(y)"
      ],
      "execution_count": 0,
      "outputs": []
    },
    {
      "cell_type": "code",
      "metadata": {
        "id": "aHxaLrWcqvwP",
        "colab_type": "code",
        "colab": {
          "base_uri": "https://localhost:8080/",
          "height": 68
        },
        "outputId": "8e6d231f-07ab-4fba-f32e-23898620556b"
      },
      "source": [
        "X_train, Y_train = build_dataset(X_train)\n",
        "X_test, Y_test = build_dataset(X_test)\n",
        "X_val, Y_val = build_dataset(X_val)"
      ],
      "execution_count": 40,
      "outputs": [
        {
          "output_type": "stream",
          "text": [
            "100%|██████████| 46529/46529 [00:34<00:00, 1331.65it/s]\n",
            "100%|██████████| 14541/14541 [00:10<00:00, 1439.40it/s]\n",
            "100%|██████████| 11633/11633 [00:07<00:00, 1475.27it/s]\n"
          ],
          "name": "stderr"
        }
      ]
    },
    {
      "cell_type": "code",
      "metadata": {
        "id": "HgfJDhTygMhg",
        "colab_type": "code",
        "colab": {
          "base_uri": "https://localhost:8080/",
          "height": 34
        },
        "outputId": "2d1d9e4e-3a4c-44ff-b418-b0ff69f75801"
      },
      "source": [
        "X_val.shape"
      ],
      "execution_count": 41,
      "outputs": [
        {
          "output_type": "execute_result",
          "data": {
            "text/plain": [
              "(10194, 1440, 4)"
            ]
          },
          "metadata": {
            "tags": []
          },
          "execution_count": 41
        }
      ]
    },
    {
      "cell_type": "code",
      "metadata": {
        "id": "MzdFrll7Pr31",
        "colab_type": "code",
        "outputId": "12eaabd3-2e51-4fcb-e2cb-3a2131d80d47",
        "colab": {
          "base_uri": "https://localhost:8080/",
          "height": 238
        }
      },
      "source": [
        "# Tensorboard set\n",
        "!wget https://bin.equinox.io/c/4VmDzA7iaHb/ngrok-stable-linux-amd64.zip\n",
        "!unzip ngrok-stable-linux-amd64.zip"
      ],
      "execution_count": 74,
      "outputs": [
        {
          "output_type": "stream",
          "text": [
            "--2020-05-18 21:39:40--  https://bin.equinox.io/c/4VmDzA7iaHb/ngrok-stable-linux-amd64.zip\n",
            "Resolving bin.equinox.io (bin.equinox.io)... 3.215.12.181, 34.193.189.199, 3.223.118.45, ...\n",
            "Connecting to bin.equinox.io (bin.equinox.io)|3.215.12.181|:443... connected.\n",
            "HTTP request sent, awaiting response... 200 OK\n",
            "Length: 13773305 (13M) [application/octet-stream]\n",
            "Saving to: ‘ngrok-stable-linux-amd64.zip’\n",
            "\n",
            "ngrok-stable-linux- 100%[===================>]  13.13M  12.9MB/s    in 1.0s    \n",
            "\n",
            "2020-05-18 21:39:42 (12.9 MB/s) - ‘ngrok-stable-linux-amd64.zip’ saved [13773305/13773305]\n",
            "\n",
            "Archive:  ngrok-stable-linux-amd64.zip\n",
            "  inflating: ngrok                   \n"
          ],
          "name": "stdout"
        }
      ]
    },
    {
      "cell_type": "code",
      "metadata": {
        "id": "dEnxNOgbP0mt",
        "colab_type": "code",
        "colab": {}
      },
      "source": [
        "LOG_DIR = os.path.join(\"logs\")\n",
        "get_ipython().system_raw(\n",
        "    'tensorboard --logdir {} --host 0.0.0.0 --port 6006 &'\n",
        "    .format(LOG_DIR)\n",
        ")\n",
        "\n",
        "get_ipython().system_raw('./ngrok http 6006 &')"
      ],
      "execution_count": 0,
      "outputs": []
    },
    {
      "cell_type": "code",
      "metadata": {
        "id": "xofkM4vtQPqC",
        "colab_type": "code",
        "outputId": "c372090c-4a19-42cd-b2ef-622757564165",
        "colab": {
          "base_uri": "https://localhost:8080/",
          "height": 34
        }
      },
      "source": [
        "#Run tensorboard\n",
        "!curl -s http://localhost:4040/api/tunnels | python3 -c \\\n",
        "    \"import sys, json; print(json.load(sys.stdin)['tunnels'][0]['public_url'])\""
      ],
      "execution_count": 42,
      "outputs": [
        {
          "output_type": "stream",
          "text": [
            "https://01658731.ngrok.io\n"
          ],
          "name": "stdout"
        }
      ]
    },
    {
      "cell_type": "code",
      "metadata": {
        "id": "0s4Of2BcQcSR",
        "colab_type": "code",
        "colab": {}
      },
      "source": [
        "tensorboard_callback = TensorBoard(log_dir=LOG_DIR, histogram_freq=1,\n",
        "                         write_images=True)"
      ],
      "execution_count": 0,
      "outputs": []
    },
    {
      "cell_type": "code",
      "metadata": {
        "id": "amtQ8ABZitw8",
        "colab_type": "code",
        "outputId": "22841e16-10dc-4930-db3f-d4d56e888b0c",
        "colab": {
          "base_uri": "https://localhost:8080/",
          "height": 391
        }
      },
      "source": [
        "# create model\n",
        "from tensorflow.keras.models import Sequential\n",
        "from tensorflow.keras.layers import LSTM, Dropout, Dense\n",
        "\n",
        "model = Sequential()\n",
        "\n",
        "model.add(LSTM(units=units, return_sequences=True, input_shape=(X_train.shape[1:])))\n",
        "model.add(Dropout(dropout_rate))\n",
        "\n",
        "model.add(LSTM(units=units, return_sequences=True))\n",
        "model.add(Dropout(dropout_rate))\n",
        "\n",
        "model.add(LSTM(units=units, return_sequences=True))\n",
        "model.add(Dropout(dropout_rate))\n",
        "\n",
        "model.add(LSTM(units=units, return_sequences=True))\n",
        "model.add(Dropout(dropout_rate))\n",
        "\n",
        "model.add(LSTM(units=units))\n",
        "model.add(Dropout(dropout_rate))\n",
        "\n",
        "model.add(Dense(units=1))\n",
        "\n",
        "model.compile(optimizer=optimizer, loss=loss_function, metrics=['mae'])\n",
        "\n",
        "model.fit(X_train, Y_train, epochs=epoch, batch_size=batch_size, validation_data=(X_val, Y_val), verbose=1, callbacks=[early_stop, tensorboard_callback])"
      ],
      "execution_count": 44,
      "outputs": [
        {
          "output_type": "stream",
          "text": [
            "Epoch 1/10\n",
            "  2/705 [..............................] - ETA: 9:02 - loss: 0.1222 - mae: 0.2801WARNING:tensorflow:Method (on_train_batch_end) is slow compared to the batch update (0.573984). Check your callbacks.\n",
            "705/705 [==============================] - 215s 305ms/step - loss: 0.0201 - mae: 0.1071 - val_loss: 0.1220 - val_mae: 0.3000\n",
            "Epoch 2/10\n",
            "705/705 [==============================] - 215s 305ms/step - loss: 0.0077 - mae: 0.0642 - val_loss: 0.0866 - val_mae: 0.2576\n",
            "Epoch 3/10\n",
            "705/705 [==============================] - 214s 303ms/step - loss: 0.0047 - mae: 0.0499 - val_loss: 0.0863 - val_mae: 0.2480\n",
            "Epoch 4/10\n",
            "705/705 [==============================] - 212s 301ms/step - loss: 0.0039 - mae: 0.0447 - val_loss: 0.0672 - val_mae: 0.2074\n",
            "Epoch 5/10\n",
            "705/705 [==============================] - 212s 301ms/step - loss: 0.0035 - mae: 0.0417 - val_loss: 0.0472 - val_mae: 0.1679\n",
            "Epoch 6/10\n",
            "705/705 [==============================] - 210s 297ms/step - loss: 0.0027 - mae: 0.0363 - val_loss: 0.0077 - val_mae: 0.0608\n",
            "Epoch 7/10\n",
            "705/705 [==============================] - 209s 297ms/step - loss: 0.0038 - mae: 0.0410 - val_loss: 0.0140 - val_mae: 0.0963\n",
            "Epoch 8/10\n",
            "705/705 [==============================] - 209s 297ms/step - loss: 0.0025 - mae: 0.0343 - val_loss: 0.0094 - val_mae: 0.0846\n",
            "Epoch 9/10\n",
            "705/705 [==============================] - 209s 296ms/step - loss: 0.0024 - mae: 0.0340 - val_loss: 0.0041 - val_mae: 0.0439\n",
            "Epoch 10/10\n",
            "705/705 [==============================] - 208s 295ms/step - loss: 0.0022 - mae: 0.0324 - val_loss: 0.0054 - val_mae: 0.0520\n"
          ],
          "name": "stdout"
        },
        {
          "output_type": "execute_result",
          "data": {
            "text/plain": [
              "<tensorflow.python.keras.callbacks.History at 0x7f1f305324a8>"
            ]
          },
          "metadata": {
            "tags": []
          },
          "execution_count": 44
        }
      ]
    },
    {
      "cell_type": "code",
      "metadata": {
        "id": "Gj0eL3VnPgFM",
        "colab_type": "code",
        "colab": {}
      },
      "source": [
        "predicted_price = model.predict(X_test)\n",
        "\n",
        "trainPredict_dataset_like = np.zeros(shape=(len(predicted_price), 5))\n",
        "trainPredict_dataset_like[:,0] = predicted_price[:,0]\n",
        "predicted_price = sc.inverse_transform(trainPredict_dataset_like)[:, 0]"
      ],
      "execution_count": 0,
      "outputs": []
    },
    {
      "cell_type": "code",
      "metadata": {
        "id": "CbZrQvLnJiWD",
        "colab_type": "code",
        "colab": {
          "base_uri": "https://localhost:8080/",
          "height": 295
        },
        "outputId": "ef225741-4f7c-4126-9cca-7744e1dc6d11"
      },
      "source": [
        "plt.plot(real_price, color = 'black', label = 'Real Price')\n",
        "plt.plot(predicted_price, color = 'green', label = 'Predicted Price')\n",
        "plt.title('BTC Price Prediction')\n",
        "plt.xlabel('Time')\n",
        "plt.ylabel('BTC Price')\n",
        "plt.legend()\n",
        "plt.show()"
      ],
      "execution_count": 47,
      "outputs": [
        {
          "output_type": "display_data",
          "data": {
            "image/png": "[encoded data removed]",
            "text/plain": [
              "<Figure size 432x288 with 1 Axes>"
            ]
          },
          "metadata": {
            "tags": [],
            "needs_background": "light"
          }
        }
      ]
    },
    {
      "cell_type": "code",
      "metadata": {
        "id": "SSZdPTl2gooU",
        "colab_type": "code",
        "colab": {}
      },
      "source": [
        "x, y = build_dataset(test.values)"
      ],
      "execution_count": 0,
      "outputs": []
    },
    {
      "cell_type": "code",
      "metadata": {
        "id": "IjTVLW8FogsX",
        "colab_type": "code",
        "colab": {
          "base_uri": "https://localhost:8080/",
          "height": 232
        },
        "outputId": "9790321b-18ae-4041-8c99-6b2178916545"
      },
      "source": [
        "x = x.reshape(-1,1)\n",
        "x = sc.transform(x)\n",
        "\n",
        "predicted_price = model.predict(x)\n",
        "\n",
        "trainPredict_dataset_like = np.zeros(shape=(len(predicted_price), 11))\n",
        "trainPredict_dataset_like[:,0] = predicted_price[:,0]\n",
        "predicted_price = sc.inverse_transform(trainPredict_dataset_like)[:, 0]"
      ],
      "execution_count": 366,
      "outputs": [
        {
          "output_type": "error",
          "ename": "ValueError",
          "evalue": "ignored",
          "traceback": [
            "\u001b[0;31m---------------------------------------------------------------------------\u001b[0m",
            "\u001b[0;31mValueError\u001b[0m                                Traceback (most recent call last)",
            "\u001b[0;32m<ipython-input-366-e4e9bc56a0b2>\u001b[0m in \u001b[0;36m<module>\u001b[0;34m()\u001b[0m\n\u001b[0;32m----> 1\u001b[0;31m \u001b[0mx\u001b[0m \u001b[0;34m=\u001b[0m \u001b[0mx\u001b[0m\u001b[0;34m.\u001b[0m\u001b[0mreshape\u001b[0m\u001b[0;34m(\u001b[0m\u001b[0;34m-\u001b[0m\u001b[0;36m1\u001b[0m\u001b[0;34m,\u001b[0m\u001b[0;36m11\u001b[0m\u001b[0;34m)\u001b[0m\u001b[0;34m\u001b[0m\u001b[0;34m\u001b[0m\u001b[0m\n\u001b[0m\u001b[1;32m      2\u001b[0m \u001b[0mx\u001b[0m \u001b[0;34m=\u001b[0m \u001b[0msc\u001b[0m\u001b[0;34m.\u001b[0m\u001b[0mtransform\u001b[0m\u001b[0;34m(\u001b[0m\u001b[0mx\u001b[0m\u001b[0;34m)\u001b[0m\u001b[0;34m\u001b[0m\u001b[0;34m\u001b[0m\u001b[0m\n\u001b[1;32m      3\u001b[0m \u001b[0;34m\u001b[0m\u001b[0m\n\u001b[1;32m      4\u001b[0m \u001b[0mpredicted_price\u001b[0m \u001b[0;34m=\u001b[0m \u001b[0mmodel\u001b[0m\u001b[0;34m.\u001b[0m\u001b[0mpredict\u001b[0m\u001b[0;34m(\u001b[0m\u001b[0mx\u001b[0m\u001b[0;34m)\u001b[0m\u001b[0;34m\u001b[0m\u001b[0;34m\u001b[0m\u001b[0m\n\u001b[1;32m      5\u001b[0m \u001b[0;34m\u001b[0m\u001b[0m\n",
            "\u001b[0;31mValueError\u001b[0m: cannot reshape array of size 42000 into shape (11)"
          ]
        }
      ]
    },
    {
      "cell_type": "code",
      "metadata": {
        "id": "0_SYfaIwqfKK",
        "colab_type": "code",
        "colab": {
          "base_uri": "https://localhost:8080/",
          "height": 34
        },
        "outputId": "75aabed9-0f6c-4b53-e6cc-a1541df375c4"
      },
      "source": [
        "len(real_price), len(predicted_price)"
      ],
      "execution_count": 51,
      "outputs": [
        {
          "output_type": "execute_result",
          "data": {
            "text/plain": [
              "(14541, 13102)"
            ]
          },
          "metadata": {
            "tags": []
          },
          "execution_count": 51
        }
      ]
    },
    {
      "cell_type": "code",
      "metadata": {
        "id": "6txaZZTtOBxN",
        "colab_type": "code",
        "colab": {}
      },
      "source": [
        ""
      ],
      "execution_count": 0,
      "outputs": []
    }
  ]
}